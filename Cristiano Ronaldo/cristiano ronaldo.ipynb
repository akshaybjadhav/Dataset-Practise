{
 "cells": [
  {
   "cell_type": "raw",
   "id": "e83e91c3",
   "metadata": {},
   "source": []
  },
  {
   "cell_type": "code",
   "execution_count": 85,
   "id": "815ed87d",
   "metadata": {},
   "outputs": [],
   "source": [
    "import numpy as np\n",
    "import pandas as pd\n",
    "import matplotlib.pyplot as plt\n",
    "import seaborn as sns\n",
    "\n",
    "import warnings"
   ]
  },
  {
   "cell_type": "code",
   "execution_count": 86,
   "id": "7a6bced3",
   "metadata": {},
   "outputs": [],
   "source": [
    "warnings.filterwarnings('ignore')"
   ]
  },
  {
   "cell_type": "code",
   "execution_count": 87,
   "id": "17e6d833",
   "metadata": {},
   "outputs": [
    {
     "data": {
      "text/html": [
       "<div>\n",
       "<style scoped>\n",
       "    .dataframe tbody tr th:only-of-type {\n",
       "        vertical-align: middle;\n",
       "    }\n",
       "\n",
       "    .dataframe tbody tr th {\n",
       "        vertical-align: top;\n",
       "    }\n",
       "\n",
       "    .dataframe thead th {\n",
       "        text-align: right;\n",
       "    }\n",
       "</style>\n",
       "<table border=\"1\" class=\"dataframe\">\n",
       "  <thead>\n",
       "    <tr style=\"text-align: right;\">\n",
       "      <th></th>\n",
       "      <th>Unnamed: 0</th>\n",
       "      <th>match_event_id</th>\n",
       "      <th>location_x</th>\n",
       "      <th>location_y</th>\n",
       "      <th>remaining_min</th>\n",
       "      <th>power_of_shot</th>\n",
       "      <th>knockout_match</th>\n",
       "      <th>game_season</th>\n",
       "      <th>remaining_sec</th>\n",
       "      <th>distance_of_shot</th>\n",
       "      <th>...</th>\n",
       "      <th>lat/lng</th>\n",
       "      <th>type_of_shot</th>\n",
       "      <th>type_of_combined_shot</th>\n",
       "      <th>match_id</th>\n",
       "      <th>team_id</th>\n",
       "      <th>remaining_min.1</th>\n",
       "      <th>power_of_shot.1</th>\n",
       "      <th>knockout_match.1</th>\n",
       "      <th>remaining_sec.1</th>\n",
       "      <th>distance_of_shot.1</th>\n",
       "    </tr>\n",
       "  </thead>\n",
       "  <tbody>\n",
       "    <tr>\n",
       "      <th>0</th>\n",
       "      <td>0</td>\n",
       "      <td>10.0</td>\n",
       "      <td>167.0</td>\n",
       "      <td>72.0</td>\n",
       "      <td>10.0</td>\n",
       "      <td>1.0</td>\n",
       "      <td>0.0</td>\n",
       "      <td>2000-01</td>\n",
       "      <td>27.0</td>\n",
       "      <td>38.0</td>\n",
       "      <td>...</td>\n",
       "      <td>45.539131, -122.651648</td>\n",
       "      <td>shot - 30</td>\n",
       "      <td>NaN</td>\n",
       "      <td>20000012</td>\n",
       "      <td>1610612747</td>\n",
       "      <td>10.00</td>\n",
       "      <td>1.0</td>\n",
       "      <td>50.608</td>\n",
       "      <td>54.2000</td>\n",
       "      <td>38.0</td>\n",
       "    </tr>\n",
       "    <tr>\n",
       "      <th>1</th>\n",
       "      <td>1</td>\n",
       "      <td>12.0</td>\n",
       "      <td>-157.0</td>\n",
       "      <td>0.0</td>\n",
       "      <td>10.0</td>\n",
       "      <td>1.0</td>\n",
       "      <td>0.0</td>\n",
       "      <td>2000-01</td>\n",
       "      <td>22.0</td>\n",
       "      <td>35.0</td>\n",
       "      <td>...</td>\n",
       "      <td>45.539131, -122.651648</td>\n",
       "      <td>shot - 45</td>\n",
       "      <td>NaN</td>\n",
       "      <td>20000012</td>\n",
       "      <td>1610612747</td>\n",
       "      <td>10.00</td>\n",
       "      <td>1.0</td>\n",
       "      <td>28.800</td>\n",
       "      <td>22.0000</td>\n",
       "      <td>35.0</td>\n",
       "    </tr>\n",
       "    <tr>\n",
       "      <th>2</th>\n",
       "      <td>2</td>\n",
       "      <td>35.0</td>\n",
       "      <td>-101.0</td>\n",
       "      <td>135.0</td>\n",
       "      <td>7.0</td>\n",
       "      <td>1.0</td>\n",
       "      <td>0.0</td>\n",
       "      <td>2000-01</td>\n",
       "      <td>45.0</td>\n",
       "      <td>36.0</td>\n",
       "      <td>...</td>\n",
       "      <td>45.539131, -122.651648</td>\n",
       "      <td>shot - 25</td>\n",
       "      <td>NaN</td>\n",
       "      <td>20000012</td>\n",
       "      <td>1610612747</td>\n",
       "      <td>92.64</td>\n",
       "      <td>1.0</td>\n",
       "      <td>0.000</td>\n",
       "      <td>63.7216</td>\n",
       "      <td>54.4</td>\n",
       "    </tr>\n",
       "    <tr>\n",
       "      <th>3</th>\n",
       "      <td>3</td>\n",
       "      <td>43.0</td>\n",
       "      <td>138.0</td>\n",
       "      <td>175.0</td>\n",
       "      <td>6.0</td>\n",
       "      <td>1.0</td>\n",
       "      <td>0.0</td>\n",
       "      <td>2000-01</td>\n",
       "      <td>52.0</td>\n",
       "      <td>42.0</td>\n",
       "      <td>...</td>\n",
       "      <td>45.539131, -122.651648</td>\n",
       "      <td>NaN</td>\n",
       "      <td>shot - 3</td>\n",
       "      <td>20000012</td>\n",
       "      <td>1610612747</td>\n",
       "      <td>NaN</td>\n",
       "      <td>1.0</td>\n",
       "      <td>122.608</td>\n",
       "      <td>52.0000</td>\n",
       "      <td>42.0</td>\n",
       "    </tr>\n",
       "    <tr>\n",
       "      <th>4</th>\n",
       "      <td>4</td>\n",
       "      <td>155.0</td>\n",
       "      <td>0.0</td>\n",
       "      <td>0.0</td>\n",
       "      <td>NaN</td>\n",
       "      <td>2.0</td>\n",
       "      <td>0.0</td>\n",
       "      <td>2000-01</td>\n",
       "      <td>19.0</td>\n",
       "      <td>20.0</td>\n",
       "      <td>...</td>\n",
       "      <td>45.539131, -122.651648</td>\n",
       "      <td>NaN</td>\n",
       "      <td>shot - 1</td>\n",
       "      <td>20000012</td>\n",
       "      <td>1610612747</td>\n",
       "      <td>42.64</td>\n",
       "      <td>2.0</td>\n",
       "      <td>0.000</td>\n",
       "      <td>19.0000</td>\n",
       "      <td>20.0</td>\n",
       "    </tr>\n",
       "  </tbody>\n",
       "</table>\n",
       "<p>5 rows × 28 columns</p>\n",
       "</div>"
      ],
      "text/plain": [
       "   Unnamed: 0  match_event_id  location_x  location_y  remaining_min  \\\n",
       "0           0            10.0       167.0        72.0           10.0   \n",
       "1           1            12.0      -157.0         0.0           10.0   \n",
       "2           2            35.0      -101.0       135.0            7.0   \n",
       "3           3            43.0       138.0       175.0            6.0   \n",
       "4           4           155.0         0.0         0.0            NaN   \n",
       "\n",
       "   power_of_shot  knockout_match game_season  remaining_sec  distance_of_shot  \\\n",
       "0            1.0             0.0     2000-01           27.0              38.0   \n",
       "1            1.0             0.0     2000-01           22.0              35.0   \n",
       "2            1.0             0.0     2000-01           45.0              36.0   \n",
       "3            1.0             0.0     2000-01           52.0              42.0   \n",
       "4            2.0             0.0     2000-01           19.0              20.0   \n",
       "\n",
       "   ...                 lat/lng type_of_shot type_of_combined_shot  match_id  \\\n",
       "0  ...  45.539131, -122.651648    shot - 30                   NaN  20000012   \n",
       "1  ...  45.539131, -122.651648    shot - 45                   NaN  20000012   \n",
       "2  ...  45.539131, -122.651648    shot - 25                   NaN  20000012   \n",
       "3  ...  45.539131, -122.651648          NaN              shot - 3  20000012   \n",
       "4  ...  45.539131, -122.651648          NaN              shot - 1  20000012   \n",
       "\n",
       "      team_id remaining_min.1 power_of_shot.1  knockout_match.1  \\\n",
       "0  1610612747           10.00             1.0            50.608   \n",
       "1  1610612747           10.00             1.0            28.800   \n",
       "2  1610612747           92.64             1.0             0.000   \n",
       "3  1610612747             NaN             1.0           122.608   \n",
       "4  1610612747           42.64             2.0             0.000   \n",
       "\n",
       "  remaining_sec.1 distance_of_shot.1  \n",
       "0         54.2000               38.0  \n",
       "1         22.0000               35.0  \n",
       "2         63.7216               54.4  \n",
       "3         52.0000               42.0  \n",
       "4         19.0000               20.0  \n",
       "\n",
       "[5 rows x 28 columns]"
      ]
     },
     "execution_count": 87,
     "metadata": {},
     "output_type": "execute_result"
    }
   ],
   "source": [
    "data = pd.read_csv('yds_data.csv')\n",
    "data.head()"
   ]
  },
  {
   "cell_type": "code",
   "execution_count": 88,
   "id": "09c6f95d",
   "metadata": {},
   "outputs": [
    {
     "data": {
      "text/plain": [
       "(30697, 28)"
      ]
     },
     "execution_count": 88,
     "metadata": {},
     "output_type": "execute_result"
    }
   ],
   "source": [
    "data.shape"
   ]
  },
  {
   "cell_type": "code",
   "execution_count": 89,
   "id": "ee307a0d",
   "metadata": {},
   "outputs": [
    {
     "name": "stdout",
     "output_type": "stream",
     "text": [
      "<class 'pandas.core.frame.DataFrame'>\n",
      "RangeIndex: 30697 entries, 0 to 30696\n",
      "Data columns (total 28 columns):\n",
      " #   Column                 Non-Null Count  Dtype  \n",
      "---  ------                 --------------  -----  \n",
      " 0   Unnamed: 0             30697 non-null  int64  \n",
      " 1   match_event_id         29134 non-null  float64\n",
      " 2   location_x             29236 non-null  float64\n",
      " 3   location_y             29157 non-null  float64\n",
      " 4   remaining_min          29135 non-null  float64\n",
      " 5   power_of_shot          29211 non-null  float64\n",
      " 6   knockout_match         29180 non-null  float64\n",
      " 7   game_season            24835 non-null  object \n",
      " 8   remaining_sec          29103 non-null  float64\n",
      " 9   distance_of_shot       29130 non-null  float64\n",
      " 10  is_goal                24429 non-null  float64\n",
      " 11  area_of_shot           29195 non-null  object \n",
      " 12  shot_basics            29122 non-null  object \n",
      " 13  range_of_shot          29133 non-null  object \n",
      " 14  team_name              29162 non-null  object \n",
      " 15  date_of_game           29147 non-null  object \n",
      " 16  home/away              29200 non-null  object \n",
      " 17  shot_id_number         29134 non-null  float64\n",
      " 18  lat/lng                29132 non-null  object \n",
      " 19  type_of_shot           15417 non-null  object \n",
      " 20  type_of_combined_shot  15280 non-null  object \n",
      " 21  match_id               30697 non-null  int64  \n",
      " 22  team_id                30697 non-null  int64  \n",
      " 23  remaining_min.1        29162 non-null  float64\n",
      " 24  power_of_shot.1        29158 non-null  float64\n",
      " 25  knockout_match.1       29204 non-null  float64\n",
      " 26  remaining_sec.1        29158 non-null  float64\n",
      " 27  distance_of_shot.1     29129 non-null  float64\n",
      "dtypes: float64(15), int64(3), object(10)\n",
      "memory usage: 6.6+ MB\n"
     ]
    }
   ],
   "source": [
    "data.info()"
   ]
  },
  {
   "cell_type": "code",
   "execution_count": 90,
   "id": "5b3274d1",
   "metadata": {},
   "outputs": [
    {
     "data": {
      "text/html": [
       "<div>\n",
       "<style scoped>\n",
       "    .dataframe tbody tr th:only-of-type {\n",
       "        vertical-align: middle;\n",
       "    }\n",
       "\n",
       "    .dataframe tbody tr th {\n",
       "        vertical-align: top;\n",
       "    }\n",
       "\n",
       "    .dataframe thead th {\n",
       "        text-align: right;\n",
       "    }\n",
       "</style>\n",
       "<table border=\"1\" class=\"dataframe\">\n",
       "  <thead>\n",
       "    <tr style=\"text-align: right;\">\n",
       "      <th></th>\n",
       "      <th>count</th>\n",
       "      <th>mean</th>\n",
       "      <th>std</th>\n",
       "      <th>min</th>\n",
       "      <th>25%</th>\n",
       "      <th>50%</th>\n",
       "      <th>75%</th>\n",
       "      <th>max</th>\n",
       "    </tr>\n",
       "  </thead>\n",
       "  <tbody>\n",
       "    <tr>\n",
       "      <th>Unnamed: 0</th>\n",
       "      <td>30697.0</td>\n",
       "      <td>1.534800e+04</td>\n",
       "      <td>8.861605e+03</td>\n",
       "      <td>0.000000e+00</td>\n",
       "      <td>7.674000e+03</td>\n",
       "      <td>1.534800e+04</td>\n",
       "      <td>2.302200e+04</td>\n",
       "      <td>3.069600e+04</td>\n",
       "    </tr>\n",
       "    <tr>\n",
       "      <th>match_event_id</th>\n",
       "      <td>29134.0</td>\n",
       "      <td>2.495760e+02</td>\n",
       "      <td>1.501860e+02</td>\n",
       "      <td>2.000000e+00</td>\n",
       "      <td>1.110000e+02</td>\n",
       "      <td>2.540000e+02</td>\n",
       "      <td>3.690000e+02</td>\n",
       "      <td>6.590000e+02</td>\n",
       "    </tr>\n",
       "    <tr>\n",
       "      <th>location_x</th>\n",
       "      <td>29236.0</td>\n",
       "      <td>7.383876e+00</td>\n",
       "      <td>1.102630e+02</td>\n",
       "      <td>-2.500000e+02</td>\n",
       "      <td>-6.800000e+01</td>\n",
       "      <td>0.000000e+00</td>\n",
       "      <td>9.500000e+01</td>\n",
       "      <td>2.480000e+02</td>\n",
       "    </tr>\n",
       "    <tr>\n",
       "      <th>location_y</th>\n",
       "      <td>29157.0</td>\n",
       "      <td>9.112693e+01</td>\n",
       "      <td>8.767640e+01</td>\n",
       "      <td>-4.400000e+01</td>\n",
       "      <td>4.000000e+00</td>\n",
       "      <td>7.400000e+01</td>\n",
       "      <td>1.600000e+02</td>\n",
       "      <td>7.910000e+02</td>\n",
       "    </tr>\n",
       "    <tr>\n",
       "      <th>remaining_min</th>\n",
       "      <td>29135.0</td>\n",
       "      <td>4.883233e+00</td>\n",
       "      <td>3.452533e+00</td>\n",
       "      <td>0.000000e+00</td>\n",
       "      <td>2.000000e+00</td>\n",
       "      <td>5.000000e+00</td>\n",
       "      <td>8.000000e+00</td>\n",
       "      <td>1.100000e+01</td>\n",
       "    </tr>\n",
       "    <tr>\n",
       "      <th>power_of_shot</th>\n",
       "      <td>29211.0</td>\n",
       "      <td>2.519359e+00</td>\n",
       "      <td>1.153976e+00</td>\n",
       "      <td>1.000000e+00</td>\n",
       "      <td>1.000000e+00</td>\n",
       "      <td>3.000000e+00</td>\n",
       "      <td>3.000000e+00</td>\n",
       "      <td>7.000000e+00</td>\n",
       "    </tr>\n",
       "    <tr>\n",
       "      <th>knockout_match</th>\n",
       "      <td>29180.0</td>\n",
       "      <td>1.459561e-01</td>\n",
       "      <td>3.530683e-01</td>\n",
       "      <td>0.000000e+00</td>\n",
       "      <td>0.000000e+00</td>\n",
       "      <td>0.000000e+00</td>\n",
       "      <td>0.000000e+00</td>\n",
       "      <td>1.000000e+00</td>\n",
       "    </tr>\n",
       "    <tr>\n",
       "      <th>remaining_sec</th>\n",
       "      <td>29103.0</td>\n",
       "      <td>2.832938e+01</td>\n",
       "      <td>1.747066e+01</td>\n",
       "      <td>0.000000e+00</td>\n",
       "      <td>1.300000e+01</td>\n",
       "      <td>2.800000e+01</td>\n",
       "      <td>4.300000e+01</td>\n",
       "      <td>5.900000e+01</td>\n",
       "    </tr>\n",
       "    <tr>\n",
       "      <th>distance_of_shot</th>\n",
       "      <td>29130.0</td>\n",
       "      <td>3.344888e+01</td>\n",
       "      <td>9.369656e+00</td>\n",
       "      <td>2.000000e+01</td>\n",
       "      <td>2.500000e+01</td>\n",
       "      <td>3.500000e+01</td>\n",
       "      <td>4.100000e+01</td>\n",
       "      <td>9.900000e+01</td>\n",
       "    </tr>\n",
       "    <tr>\n",
       "      <th>is_goal</th>\n",
       "      <td>24429.0</td>\n",
       "      <td>4.453314e-01</td>\n",
       "      <td>4.970125e-01</td>\n",
       "      <td>0.000000e+00</td>\n",
       "      <td>0.000000e+00</td>\n",
       "      <td>0.000000e+00</td>\n",
       "      <td>1.000000e+00</td>\n",
       "      <td>1.000000e+00</td>\n",
       "    </tr>\n",
       "    <tr>\n",
       "      <th>shot_id_number</th>\n",
       "      <td>29134.0</td>\n",
       "      <td>1.536858e+04</td>\n",
       "      <td>8.866521e+03</td>\n",
       "      <td>1.000000e+00</td>\n",
       "      <td>7.693250e+03</td>\n",
       "      <td>1.537850e+04</td>\n",
       "      <td>2.305575e+04</td>\n",
       "      <td>3.069700e+04</td>\n",
       "    </tr>\n",
       "    <tr>\n",
       "      <th>match_id</th>\n",
       "      <td>30697.0</td>\n",
       "      <td>2.476407e+07</td>\n",
       "      <td>7.755175e+06</td>\n",
       "      <td>2.000001e+07</td>\n",
       "      <td>2.050008e+07</td>\n",
       "      <td>2.090035e+07</td>\n",
       "      <td>2.960047e+07</td>\n",
       "      <td>4.990009e+07</td>\n",
       "    </tr>\n",
       "    <tr>\n",
       "      <th>team_id</th>\n",
       "      <td>30697.0</td>\n",
       "      <td>1.610613e+09</td>\n",
       "      <td>0.000000e+00</td>\n",
       "      <td>1.610613e+09</td>\n",
       "      <td>1.610613e+09</td>\n",
       "      <td>1.610613e+09</td>\n",
       "      <td>1.610613e+09</td>\n",
       "      <td>1.610613e+09</td>\n",
       "    </tr>\n",
       "    <tr>\n",
       "      <th>remaining_min.1</th>\n",
       "      <td>29162.0</td>\n",
       "      <td>1.820461e+01</td>\n",
       "      <td>2.941697e+01</td>\n",
       "      <td>0.000000e+00</td>\n",
       "      <td>3.000000e+00</td>\n",
       "      <td>6.000000e+00</td>\n",
       "      <td>1.100000e+01</td>\n",
       "      <td>1.287616e+02</td>\n",
       "    </tr>\n",
       "    <tr>\n",
       "      <th>power_of_shot.1</th>\n",
       "      <td>29158.0</td>\n",
       "      <td>1.599411e+01</td>\n",
       "      <td>2.967682e+01</td>\n",
       "      <td>1.000000e+00</td>\n",
       "      <td>2.000000e+00</td>\n",
       "      <td>3.000000e+00</td>\n",
       "      <td>4.000000e+00</td>\n",
       "      <td>1.183600e+02</td>\n",
       "    </tr>\n",
       "    <tr>\n",
       "      <th>knockout_match.1</th>\n",
       "      <td>29204.0</td>\n",
       "      <td>1.659940e+01</td>\n",
       "      <td>3.517202e+01</td>\n",
       "      <td>0.000000e+00</td>\n",
       "      <td>0.000000e+00</td>\n",
       "      <td>0.000000e+00</td>\n",
       "      <td>1.000000e+00</td>\n",
       "      <td>1.413523e+02</td>\n",
       "    </tr>\n",
       "    <tr>\n",
       "      <th>remaining_sec.1</th>\n",
       "      <td>29158.0</td>\n",
       "      <td>3.902730e+01</td>\n",
       "      <td>2.983528e+01</td>\n",
       "      <td>0.000000e+00</td>\n",
       "      <td>1.700000e+01</td>\n",
       "      <td>3.500000e+01</td>\n",
       "      <td>5.200000e+01</td>\n",
       "      <td>1.447856e+02</td>\n",
       "    </tr>\n",
       "    <tr>\n",
       "      <th>distance_of_shot.1</th>\n",
       "      <td>29129.0</td>\n",
       "      <td>3.880185e+01</td>\n",
       "      <td>1.878771e+01</td>\n",
       "      <td>9.400000e+00</td>\n",
       "      <td>2.600000e+01</td>\n",
       "      <td>3.600000e+01</td>\n",
       "      <td>4.400000e+01</td>\n",
       "      <td>1.157280e+02</td>\n",
       "    </tr>\n",
       "  </tbody>\n",
       "</table>\n",
       "</div>"
      ],
      "text/plain": [
       "                      count          mean           std           min  \\\n",
       "Unnamed: 0          30697.0  1.534800e+04  8.861605e+03  0.000000e+00   \n",
       "match_event_id      29134.0  2.495760e+02  1.501860e+02  2.000000e+00   \n",
       "location_x          29236.0  7.383876e+00  1.102630e+02 -2.500000e+02   \n",
       "location_y          29157.0  9.112693e+01  8.767640e+01 -4.400000e+01   \n",
       "remaining_min       29135.0  4.883233e+00  3.452533e+00  0.000000e+00   \n",
       "power_of_shot       29211.0  2.519359e+00  1.153976e+00  1.000000e+00   \n",
       "knockout_match      29180.0  1.459561e-01  3.530683e-01  0.000000e+00   \n",
       "remaining_sec       29103.0  2.832938e+01  1.747066e+01  0.000000e+00   \n",
       "distance_of_shot    29130.0  3.344888e+01  9.369656e+00  2.000000e+01   \n",
       "is_goal             24429.0  4.453314e-01  4.970125e-01  0.000000e+00   \n",
       "shot_id_number      29134.0  1.536858e+04  8.866521e+03  1.000000e+00   \n",
       "match_id            30697.0  2.476407e+07  7.755175e+06  2.000001e+07   \n",
       "team_id             30697.0  1.610613e+09  0.000000e+00  1.610613e+09   \n",
       "remaining_min.1     29162.0  1.820461e+01  2.941697e+01  0.000000e+00   \n",
       "power_of_shot.1     29158.0  1.599411e+01  2.967682e+01  1.000000e+00   \n",
       "knockout_match.1    29204.0  1.659940e+01  3.517202e+01  0.000000e+00   \n",
       "remaining_sec.1     29158.0  3.902730e+01  2.983528e+01  0.000000e+00   \n",
       "distance_of_shot.1  29129.0  3.880185e+01  1.878771e+01  9.400000e+00   \n",
       "\n",
       "                             25%           50%           75%           max  \n",
       "Unnamed: 0          7.674000e+03  1.534800e+04  2.302200e+04  3.069600e+04  \n",
       "match_event_id      1.110000e+02  2.540000e+02  3.690000e+02  6.590000e+02  \n",
       "location_x         -6.800000e+01  0.000000e+00  9.500000e+01  2.480000e+02  \n",
       "location_y          4.000000e+00  7.400000e+01  1.600000e+02  7.910000e+02  \n",
       "remaining_min       2.000000e+00  5.000000e+00  8.000000e+00  1.100000e+01  \n",
       "power_of_shot       1.000000e+00  3.000000e+00  3.000000e+00  7.000000e+00  \n",
       "knockout_match      0.000000e+00  0.000000e+00  0.000000e+00  1.000000e+00  \n",
       "remaining_sec       1.300000e+01  2.800000e+01  4.300000e+01  5.900000e+01  \n",
       "distance_of_shot    2.500000e+01  3.500000e+01  4.100000e+01  9.900000e+01  \n",
       "is_goal             0.000000e+00  0.000000e+00  1.000000e+00  1.000000e+00  \n",
       "shot_id_number      7.693250e+03  1.537850e+04  2.305575e+04  3.069700e+04  \n",
       "match_id            2.050008e+07  2.090035e+07  2.960047e+07  4.990009e+07  \n",
       "team_id             1.610613e+09  1.610613e+09  1.610613e+09  1.610613e+09  \n",
       "remaining_min.1     3.000000e+00  6.000000e+00  1.100000e+01  1.287616e+02  \n",
       "power_of_shot.1     2.000000e+00  3.000000e+00  4.000000e+00  1.183600e+02  \n",
       "knockout_match.1    0.000000e+00  0.000000e+00  1.000000e+00  1.413523e+02  \n",
       "remaining_sec.1     1.700000e+01  3.500000e+01  5.200000e+01  1.447856e+02  \n",
       "distance_of_shot.1  2.600000e+01  3.600000e+01  4.400000e+01  1.157280e+02  "
      ]
     },
     "execution_count": 90,
     "metadata": {},
     "output_type": "execute_result"
    }
   ],
   "source": [
    "data.describe().transpose()"
   ]
  },
  {
   "cell_type": "code",
   "execution_count": 91,
   "id": "d88fae7f",
   "metadata": {},
   "outputs": [
    {
     "data": {
      "text/html": [
       "<div>\n",
       "<style scoped>\n",
       "    .dataframe tbody tr th:only-of-type {\n",
       "        vertical-align: middle;\n",
       "    }\n",
       "\n",
       "    .dataframe tbody tr th {\n",
       "        vertical-align: top;\n",
       "    }\n",
       "\n",
       "    .dataframe thead th {\n",
       "        text-align: right;\n",
       "    }\n",
       "</style>\n",
       "<table border=\"1\" class=\"dataframe\">\n",
       "  <thead>\n",
       "    <tr style=\"text-align: right;\">\n",
       "      <th></th>\n",
       "      <th>total missing</th>\n",
       "      <th>Percent missing</th>\n",
       "    </tr>\n",
       "  </thead>\n",
       "  <tbody>\n",
       "    <tr>\n",
       "      <th>Unnamed: 0</th>\n",
       "      <td>0</td>\n",
       "      <td>0.000000</td>\n",
       "    </tr>\n",
       "    <tr>\n",
       "      <th>match_event_id</th>\n",
       "      <td>1563</td>\n",
       "      <td>5.091703</td>\n",
       "    </tr>\n",
       "    <tr>\n",
       "      <th>location_x</th>\n",
       "      <td>1461</td>\n",
       "      <td>4.759423</td>\n",
       "    </tr>\n",
       "    <tr>\n",
       "      <th>location_y</th>\n",
       "      <td>1540</td>\n",
       "      <td>5.016777</td>\n",
       "    </tr>\n",
       "    <tr>\n",
       "      <th>remaining_min</th>\n",
       "      <td>1562</td>\n",
       "      <td>5.088445</td>\n",
       "    </tr>\n",
       "    <tr>\n",
       "      <th>power_of_shot</th>\n",
       "      <td>1486</td>\n",
       "      <td>4.840864</td>\n",
       "    </tr>\n",
       "    <tr>\n",
       "      <th>knockout_match</th>\n",
       "      <td>1517</td>\n",
       "      <td>4.941851</td>\n",
       "    </tr>\n",
       "    <tr>\n",
       "      <th>game_season</th>\n",
       "      <td>5862</td>\n",
       "      <td>19.096329</td>\n",
       "    </tr>\n",
       "    <tr>\n",
       "      <th>remaining_sec</th>\n",
       "      <td>1594</td>\n",
       "      <td>5.192690</td>\n",
       "    </tr>\n",
       "    <tr>\n",
       "      <th>distance_of_shot</th>\n",
       "      <td>1567</td>\n",
       "      <td>5.104733</td>\n",
       "    </tr>\n",
       "    <tr>\n",
       "      <th>is_goal</th>\n",
       "      <td>6268</td>\n",
       "      <td>20.418933</td>\n",
       "    </tr>\n",
       "    <tr>\n",
       "      <th>area_of_shot</th>\n",
       "      <td>1502</td>\n",
       "      <td>4.892986</td>\n",
       "    </tr>\n",
       "    <tr>\n",
       "      <th>shot_basics</th>\n",
       "      <td>1575</td>\n",
       "      <td>5.130795</td>\n",
       "    </tr>\n",
       "    <tr>\n",
       "      <th>range_of_shot</th>\n",
       "      <td>1564</td>\n",
       "      <td>5.094960</td>\n",
       "    </tr>\n",
       "    <tr>\n",
       "      <th>team_name</th>\n",
       "      <td>1535</td>\n",
       "      <td>5.000489</td>\n",
       "    </tr>\n",
       "    <tr>\n",
       "      <th>date_of_game</th>\n",
       "      <td>1550</td>\n",
       "      <td>5.049353</td>\n",
       "    </tr>\n",
       "    <tr>\n",
       "      <th>home/away</th>\n",
       "      <td>1497</td>\n",
       "      <td>4.876698</td>\n",
       "    </tr>\n",
       "    <tr>\n",
       "      <th>shot_id_number</th>\n",
       "      <td>1563</td>\n",
       "      <td>5.091703</td>\n",
       "    </tr>\n",
       "    <tr>\n",
       "      <th>lat/lng</th>\n",
       "      <td>1565</td>\n",
       "      <td>5.098218</td>\n",
       "    </tr>\n",
       "    <tr>\n",
       "      <th>type_of_shot</th>\n",
       "      <td>15280</td>\n",
       "      <td>49.776851</td>\n",
       "    </tr>\n",
       "    <tr>\n",
       "      <th>type_of_combined_shot</th>\n",
       "      <td>15417</td>\n",
       "      <td>50.223149</td>\n",
       "    </tr>\n",
       "    <tr>\n",
       "      <th>match_id</th>\n",
       "      <td>0</td>\n",
       "      <td>0.000000</td>\n",
       "    </tr>\n",
       "    <tr>\n",
       "      <th>team_id</th>\n",
       "      <td>0</td>\n",
       "      <td>0.000000</td>\n",
       "    </tr>\n",
       "    <tr>\n",
       "      <th>remaining_min.1</th>\n",
       "      <td>1535</td>\n",
       "      <td>5.000489</td>\n",
       "    </tr>\n",
       "    <tr>\n",
       "      <th>power_of_shot.1</th>\n",
       "      <td>1539</td>\n",
       "      <td>5.013519</td>\n",
       "    </tr>\n",
       "    <tr>\n",
       "      <th>knockout_match.1</th>\n",
       "      <td>1493</td>\n",
       "      <td>4.863667</td>\n",
       "    </tr>\n",
       "    <tr>\n",
       "      <th>remaining_sec.1</th>\n",
       "      <td>1539</td>\n",
       "      <td>5.013519</td>\n",
       "    </tr>\n",
       "    <tr>\n",
       "      <th>distance_of_shot.1</th>\n",
       "      <td>1568</td>\n",
       "      <td>5.107991</td>\n",
       "    </tr>\n",
       "  </tbody>\n",
       "</table>\n",
       "</div>"
      ],
      "text/plain": [
       "                       total missing  Percent missing\n",
       "Unnamed: 0                         0         0.000000\n",
       "match_event_id                  1563         5.091703\n",
       "location_x                      1461         4.759423\n",
       "location_y                      1540         5.016777\n",
       "remaining_min                   1562         5.088445\n",
       "power_of_shot                   1486         4.840864\n",
       "knockout_match                  1517         4.941851\n",
       "game_season                     5862        19.096329\n",
       "remaining_sec                   1594         5.192690\n",
       "distance_of_shot                1567         5.104733\n",
       "is_goal                         6268        20.418933\n",
       "area_of_shot                    1502         4.892986\n",
       "shot_basics                     1575         5.130795\n",
       "range_of_shot                   1564         5.094960\n",
       "team_name                       1535         5.000489\n",
       "date_of_game                    1550         5.049353\n",
       "home/away                       1497         4.876698\n",
       "shot_id_number                  1563         5.091703\n",
       "lat/lng                         1565         5.098218\n",
       "type_of_shot                   15280        49.776851\n",
       "type_of_combined_shot          15417        50.223149\n",
       "match_id                           0         0.000000\n",
       "team_id                            0         0.000000\n",
       "remaining_min.1                 1535         5.000489\n",
       "power_of_shot.1                 1539         5.013519\n",
       "knockout_match.1                1493         4.863667\n",
       "remaining_sec.1                 1539         5.013519\n",
       "distance_of_shot.1              1568         5.107991"
      ]
     },
     "execution_count": 91,
     "metadata": {},
     "output_type": "execute_result"
    }
   ],
   "source": [
    "missing_data = pd.DataFrame({'total missing':data.isnull().sum(),'Percent missing':(data.isnull().sum()/data.shape[0])*100})\n",
    "missing_data"
   ]
  },
  {
   "cell_type": "code",
   "execution_count": 92,
   "id": "03b8c75c",
   "metadata": {},
   "outputs": [
    {
     "data": {
      "text/plain": [
       "(30697, 28)"
      ]
     },
     "execution_count": 92,
     "metadata": {},
     "output_type": "execute_result"
    }
   ],
   "source": [
    "data.shape"
   ]
  },
  {
   "cell_type": "code",
   "execution_count": 93,
   "id": "6888e23b",
   "metadata": {},
   "outputs": [
    {
     "data": {
      "text/plain": [
       "0.0    13550\n",
       "1.0    10879\n",
       "Name: is_goal, dtype: int64"
      ]
     },
     "execution_count": 93,
     "metadata": {},
     "output_type": "execute_result"
    }
   ],
   "source": [
    "data.is_goal.value_counts()"
   ]
  },
  {
   "cell_type": "code",
   "execution_count": 94,
   "id": "0d3148b6",
   "metadata": {},
   "outputs": [
    {
     "data": {
      "text/plain": [
       "24429"
      ]
     },
     "execution_count": 94,
     "metadata": {},
     "output_type": "execute_result"
    }
   ],
   "source": [
    "13550+10879"
   ]
  },
  {
   "cell_type": "code",
   "execution_count": 95,
   "id": "66b91c09",
   "metadata": {},
   "outputs": [
    {
     "data": {
      "text/html": [
       "<div>\n",
       "<style scoped>\n",
       "    .dataframe tbody tr th:only-of-type {\n",
       "        vertical-align: middle;\n",
       "    }\n",
       "\n",
       "    .dataframe tbody tr th {\n",
       "        vertical-align: top;\n",
       "    }\n",
       "\n",
       "    .dataframe thead th {\n",
       "        text-align: right;\n",
       "    }\n",
       "</style>\n",
       "<table border=\"1\" class=\"dataframe\">\n",
       "  <thead>\n",
       "    <tr style=\"text-align: right;\">\n",
       "      <th></th>\n",
       "      <th>0</th>\n",
       "      <th>1</th>\n",
       "      <th>2</th>\n",
       "      <th>3</th>\n",
       "      <th>4</th>\n",
       "    </tr>\n",
       "  </thead>\n",
       "  <tbody>\n",
       "    <tr>\n",
       "      <th>Unnamed: 0</th>\n",
       "      <td>0</td>\n",
       "      <td>1</td>\n",
       "      <td>2</td>\n",
       "      <td>3</td>\n",
       "      <td>4</td>\n",
       "    </tr>\n",
       "    <tr>\n",
       "      <th>match_event_id</th>\n",
       "      <td>10.0</td>\n",
       "      <td>12.0</td>\n",
       "      <td>35.0</td>\n",
       "      <td>43.0</td>\n",
       "      <td>155.0</td>\n",
       "    </tr>\n",
       "    <tr>\n",
       "      <th>location_x</th>\n",
       "      <td>167.0</td>\n",
       "      <td>-157.0</td>\n",
       "      <td>-101.0</td>\n",
       "      <td>138.0</td>\n",
       "      <td>0.0</td>\n",
       "    </tr>\n",
       "    <tr>\n",
       "      <th>location_y</th>\n",
       "      <td>72.0</td>\n",
       "      <td>0.0</td>\n",
       "      <td>135.0</td>\n",
       "      <td>175.0</td>\n",
       "      <td>0.0</td>\n",
       "    </tr>\n",
       "    <tr>\n",
       "      <th>remaining_min</th>\n",
       "      <td>10.0</td>\n",
       "      <td>10.0</td>\n",
       "      <td>7.0</td>\n",
       "      <td>6.0</td>\n",
       "      <td>NaN</td>\n",
       "    </tr>\n",
       "    <tr>\n",
       "      <th>power_of_shot</th>\n",
       "      <td>1.0</td>\n",
       "      <td>1.0</td>\n",
       "      <td>1.0</td>\n",
       "      <td>1.0</td>\n",
       "      <td>2.0</td>\n",
       "    </tr>\n",
       "    <tr>\n",
       "      <th>knockout_match</th>\n",
       "      <td>0.0</td>\n",
       "      <td>0.0</td>\n",
       "      <td>0.0</td>\n",
       "      <td>0.0</td>\n",
       "      <td>0.0</td>\n",
       "    </tr>\n",
       "    <tr>\n",
       "      <th>game_season</th>\n",
       "      <td>2000-01</td>\n",
       "      <td>2000-01</td>\n",
       "      <td>2000-01</td>\n",
       "      <td>2000-01</td>\n",
       "      <td>2000-01</td>\n",
       "    </tr>\n",
       "    <tr>\n",
       "      <th>remaining_sec</th>\n",
       "      <td>27.0</td>\n",
       "      <td>22.0</td>\n",
       "      <td>45.0</td>\n",
       "      <td>52.0</td>\n",
       "      <td>19.0</td>\n",
       "    </tr>\n",
       "    <tr>\n",
       "      <th>distance_of_shot</th>\n",
       "      <td>38.0</td>\n",
       "      <td>35.0</td>\n",
       "      <td>36.0</td>\n",
       "      <td>42.0</td>\n",
       "      <td>20.0</td>\n",
       "    </tr>\n",
       "    <tr>\n",
       "      <th>is_goal</th>\n",
       "      <td>NaN</td>\n",
       "      <td>0.0</td>\n",
       "      <td>1.0</td>\n",
       "      <td>0.0</td>\n",
       "      <td>1.0</td>\n",
       "    </tr>\n",
       "    <tr>\n",
       "      <th>area_of_shot</th>\n",
       "      <td>Right Side(R)</td>\n",
       "      <td>Left Side(L)</td>\n",
       "      <td>Left Side Center(LC)</td>\n",
       "      <td>Right Side Center(RC)</td>\n",
       "      <td>Center(C)</td>\n",
       "    </tr>\n",
       "    <tr>\n",
       "      <th>shot_basics</th>\n",
       "      <td>Mid Range</td>\n",
       "      <td>Mid Range</td>\n",
       "      <td>Mid Range</td>\n",
       "      <td>Mid Range</td>\n",
       "      <td>Goal Area</td>\n",
       "    </tr>\n",
       "    <tr>\n",
       "      <th>range_of_shot</th>\n",
       "      <td>16-24 ft.</td>\n",
       "      <td>8-16 ft.</td>\n",
       "      <td>16-24 ft.</td>\n",
       "      <td>16-24 ft.</td>\n",
       "      <td>Less Than 8 ft.</td>\n",
       "    </tr>\n",
       "    <tr>\n",
       "      <th>team_name</th>\n",
       "      <td>Manchester United</td>\n",
       "      <td>Manchester United</td>\n",
       "      <td>Manchester United</td>\n",
       "      <td>Manchester United</td>\n",
       "      <td>NaN</td>\n",
       "    </tr>\n",
       "    <tr>\n",
       "      <th>date_of_game</th>\n",
       "      <td>2000-10-31</td>\n",
       "      <td>2000-10-31</td>\n",
       "      <td>2000-10-31</td>\n",
       "      <td>2000-10-31</td>\n",
       "      <td>2000-10-31</td>\n",
       "    </tr>\n",
       "    <tr>\n",
       "      <th>home/away</th>\n",
       "      <td>MANU @ POR</td>\n",
       "      <td>MANU @ POR</td>\n",
       "      <td>NaN</td>\n",
       "      <td>MANU @ POR</td>\n",
       "      <td>MANU @ POR</td>\n",
       "    </tr>\n",
       "    <tr>\n",
       "      <th>shot_id_number</th>\n",
       "      <td>1.0</td>\n",
       "      <td>2.0</td>\n",
       "      <td>3.0</td>\n",
       "      <td>4.0</td>\n",
       "      <td>5.0</td>\n",
       "    </tr>\n",
       "    <tr>\n",
       "      <th>lat/lng</th>\n",
       "      <td>45.539131, -122.651648</td>\n",
       "      <td>45.539131, -122.651648</td>\n",
       "      <td>45.539131, -122.651648</td>\n",
       "      <td>45.539131, -122.651648</td>\n",
       "      <td>45.539131, -122.651648</td>\n",
       "    </tr>\n",
       "    <tr>\n",
       "      <th>type_of_shot</th>\n",
       "      <td>shot - 30</td>\n",
       "      <td>shot - 45</td>\n",
       "      <td>shot - 25</td>\n",
       "      <td>NaN</td>\n",
       "      <td>NaN</td>\n",
       "    </tr>\n",
       "    <tr>\n",
       "      <th>type_of_combined_shot</th>\n",
       "      <td>NaN</td>\n",
       "      <td>NaN</td>\n",
       "      <td>NaN</td>\n",
       "      <td>shot - 3</td>\n",
       "      <td>shot - 1</td>\n",
       "    </tr>\n",
       "    <tr>\n",
       "      <th>match_id</th>\n",
       "      <td>20000012</td>\n",
       "      <td>20000012</td>\n",
       "      <td>20000012</td>\n",
       "      <td>20000012</td>\n",
       "      <td>20000012</td>\n",
       "    </tr>\n",
       "    <tr>\n",
       "      <th>team_id</th>\n",
       "      <td>1610612747</td>\n",
       "      <td>1610612747</td>\n",
       "      <td>1610612747</td>\n",
       "      <td>1610612747</td>\n",
       "      <td>1610612747</td>\n",
       "    </tr>\n",
       "    <tr>\n",
       "      <th>remaining_min.1</th>\n",
       "      <td>10.0</td>\n",
       "      <td>10.0</td>\n",
       "      <td>92.64</td>\n",
       "      <td>NaN</td>\n",
       "      <td>42.64</td>\n",
       "    </tr>\n",
       "    <tr>\n",
       "      <th>power_of_shot.1</th>\n",
       "      <td>1.0</td>\n",
       "      <td>1.0</td>\n",
       "      <td>1.0</td>\n",
       "      <td>1.0</td>\n",
       "      <td>2.0</td>\n",
       "    </tr>\n",
       "    <tr>\n",
       "      <th>knockout_match.1</th>\n",
       "      <td>50.608</td>\n",
       "      <td>28.8</td>\n",
       "      <td>0.0</td>\n",
       "      <td>122.608</td>\n",
       "      <td>0.0</td>\n",
       "    </tr>\n",
       "    <tr>\n",
       "      <th>remaining_sec.1</th>\n",
       "      <td>54.2</td>\n",
       "      <td>22.0</td>\n",
       "      <td>63.7216</td>\n",
       "      <td>52.0</td>\n",
       "      <td>19.0</td>\n",
       "    </tr>\n",
       "    <tr>\n",
       "      <th>distance_of_shot.1</th>\n",
       "      <td>38.0</td>\n",
       "      <td>35.0</td>\n",
       "      <td>54.4</td>\n",
       "      <td>42.0</td>\n",
       "      <td>20.0</td>\n",
       "    </tr>\n",
       "  </tbody>\n",
       "</table>\n",
       "</div>"
      ],
      "text/plain": [
       "                                            0                       1  \\\n",
       "Unnamed: 0                                  0                       1   \n",
       "match_event_id                           10.0                    12.0   \n",
       "location_x                              167.0                  -157.0   \n",
       "location_y                               72.0                     0.0   \n",
       "remaining_min                            10.0                    10.0   \n",
       "power_of_shot                             1.0                     1.0   \n",
       "knockout_match                            0.0                     0.0   \n",
       "game_season                           2000-01                 2000-01   \n",
       "remaining_sec                            27.0                    22.0   \n",
       "distance_of_shot                         38.0                    35.0   \n",
       "is_goal                                   NaN                     0.0   \n",
       "area_of_shot                    Right Side(R)            Left Side(L)   \n",
       "shot_basics                         Mid Range               Mid Range   \n",
       "range_of_shot                       16-24 ft.                8-16 ft.   \n",
       "team_name                   Manchester United       Manchester United   \n",
       "date_of_game                       2000-10-31              2000-10-31   \n",
       "home/away                          MANU @ POR              MANU @ POR   \n",
       "shot_id_number                            1.0                     2.0   \n",
       "lat/lng                45.539131, -122.651648  45.539131, -122.651648   \n",
       "type_of_shot                        shot - 30               shot - 45   \n",
       "type_of_combined_shot                     NaN                     NaN   \n",
       "match_id                             20000012                20000012   \n",
       "team_id                            1610612747              1610612747   \n",
       "remaining_min.1                          10.0                    10.0   \n",
       "power_of_shot.1                           1.0                     1.0   \n",
       "knockout_match.1                       50.608                    28.8   \n",
       "remaining_sec.1                          54.2                    22.0   \n",
       "distance_of_shot.1                       38.0                    35.0   \n",
       "\n",
       "                                            2                       3  \\\n",
       "Unnamed: 0                                  2                       3   \n",
       "match_event_id                           35.0                    43.0   \n",
       "location_x                             -101.0                   138.0   \n",
       "location_y                              135.0                   175.0   \n",
       "remaining_min                             7.0                     6.0   \n",
       "power_of_shot                             1.0                     1.0   \n",
       "knockout_match                            0.0                     0.0   \n",
       "game_season                           2000-01                 2000-01   \n",
       "remaining_sec                            45.0                    52.0   \n",
       "distance_of_shot                         36.0                    42.0   \n",
       "is_goal                                   1.0                     0.0   \n",
       "area_of_shot             Left Side Center(LC)   Right Side Center(RC)   \n",
       "shot_basics                         Mid Range               Mid Range   \n",
       "range_of_shot                       16-24 ft.               16-24 ft.   \n",
       "team_name                   Manchester United       Manchester United   \n",
       "date_of_game                       2000-10-31              2000-10-31   \n",
       "home/away                                 NaN              MANU @ POR   \n",
       "shot_id_number                            3.0                     4.0   \n",
       "lat/lng                45.539131, -122.651648  45.539131, -122.651648   \n",
       "type_of_shot                        shot - 25                     NaN   \n",
       "type_of_combined_shot                     NaN                shot - 3   \n",
       "match_id                             20000012                20000012   \n",
       "team_id                            1610612747              1610612747   \n",
       "remaining_min.1                         92.64                     NaN   \n",
       "power_of_shot.1                           1.0                     1.0   \n",
       "knockout_match.1                          0.0                 122.608   \n",
       "remaining_sec.1                       63.7216                    52.0   \n",
       "distance_of_shot.1                       54.4                    42.0   \n",
       "\n",
       "                                            4  \n",
       "Unnamed: 0                                  4  \n",
       "match_event_id                          155.0  \n",
       "location_x                                0.0  \n",
       "location_y                                0.0  \n",
       "remaining_min                             NaN  \n",
       "power_of_shot                             2.0  \n",
       "knockout_match                            0.0  \n",
       "game_season                           2000-01  \n",
       "remaining_sec                            19.0  \n",
       "distance_of_shot                         20.0  \n",
       "is_goal                                   1.0  \n",
       "area_of_shot                        Center(C)  \n",
       "shot_basics                         Goal Area  \n",
       "range_of_shot                 Less Than 8 ft.  \n",
       "team_name                                 NaN  \n",
       "date_of_game                       2000-10-31  \n",
       "home/away                          MANU @ POR  \n",
       "shot_id_number                            5.0  \n",
       "lat/lng                45.539131, -122.651648  \n",
       "type_of_shot                              NaN  \n",
       "type_of_combined_shot                shot - 1  \n",
       "match_id                             20000012  \n",
       "team_id                            1610612747  \n",
       "remaining_min.1                         42.64  \n",
       "power_of_shot.1                           2.0  \n",
       "knockout_match.1                          0.0  \n",
       "remaining_sec.1                          19.0  \n",
       "distance_of_shot.1                       20.0  "
      ]
     },
     "execution_count": 95,
     "metadata": {},
     "output_type": "execute_result"
    }
   ],
   "source": [
    "data.head(5).transpose()"
   ]
  },
  {
   "cell_type": "code",
   "execution_count": 96,
   "id": "21a97b03",
   "metadata": {},
   "outputs": [],
   "source": [
    "data.drop(columns=['Unnamed: 0','remaining_min.1','power_of_shot.1','knockout_match.1','remaining_sec.1',\n",
    "                   'distance_of_shot.1'],axis=1,inplace=True)"
   ]
  },
  {
   "cell_type": "code",
   "execution_count": 97,
   "id": "d7979699",
   "metadata": {},
   "outputs": [
    {
     "data": {
      "text/html": [
       "<div>\n",
       "<style scoped>\n",
       "    .dataframe tbody tr th:only-of-type {\n",
       "        vertical-align: middle;\n",
       "    }\n",
       "\n",
       "    .dataframe tbody tr th {\n",
       "        vertical-align: top;\n",
       "    }\n",
       "\n",
       "    .dataframe thead th {\n",
       "        text-align: right;\n",
       "    }\n",
       "</style>\n",
       "<table border=\"1\" class=\"dataframe\">\n",
       "  <thead>\n",
       "    <tr style=\"text-align: right;\">\n",
       "      <th></th>\n",
       "      <th>0</th>\n",
       "      <th>1</th>\n",
       "      <th>2</th>\n",
       "      <th>3</th>\n",
       "      <th>4</th>\n",
       "    </tr>\n",
       "  </thead>\n",
       "  <tbody>\n",
       "    <tr>\n",
       "      <th>match_event_id</th>\n",
       "      <td>10.0</td>\n",
       "      <td>12.0</td>\n",
       "      <td>35.0</td>\n",
       "      <td>43.0</td>\n",
       "      <td>155.0</td>\n",
       "    </tr>\n",
       "    <tr>\n",
       "      <th>location_x</th>\n",
       "      <td>167.0</td>\n",
       "      <td>-157.0</td>\n",
       "      <td>-101.0</td>\n",
       "      <td>138.0</td>\n",
       "      <td>0.0</td>\n",
       "    </tr>\n",
       "    <tr>\n",
       "      <th>location_y</th>\n",
       "      <td>72.0</td>\n",
       "      <td>0.0</td>\n",
       "      <td>135.0</td>\n",
       "      <td>175.0</td>\n",
       "      <td>0.0</td>\n",
       "    </tr>\n",
       "    <tr>\n",
       "      <th>remaining_min</th>\n",
       "      <td>10.0</td>\n",
       "      <td>10.0</td>\n",
       "      <td>7.0</td>\n",
       "      <td>6.0</td>\n",
       "      <td>NaN</td>\n",
       "    </tr>\n",
       "    <tr>\n",
       "      <th>power_of_shot</th>\n",
       "      <td>1.0</td>\n",
       "      <td>1.0</td>\n",
       "      <td>1.0</td>\n",
       "      <td>1.0</td>\n",
       "      <td>2.0</td>\n",
       "    </tr>\n",
       "    <tr>\n",
       "      <th>knockout_match</th>\n",
       "      <td>0.0</td>\n",
       "      <td>0.0</td>\n",
       "      <td>0.0</td>\n",
       "      <td>0.0</td>\n",
       "      <td>0.0</td>\n",
       "    </tr>\n",
       "    <tr>\n",
       "      <th>game_season</th>\n",
       "      <td>2000-01</td>\n",
       "      <td>2000-01</td>\n",
       "      <td>2000-01</td>\n",
       "      <td>2000-01</td>\n",
       "      <td>2000-01</td>\n",
       "    </tr>\n",
       "    <tr>\n",
       "      <th>remaining_sec</th>\n",
       "      <td>27.0</td>\n",
       "      <td>22.0</td>\n",
       "      <td>45.0</td>\n",
       "      <td>52.0</td>\n",
       "      <td>19.0</td>\n",
       "    </tr>\n",
       "    <tr>\n",
       "      <th>distance_of_shot</th>\n",
       "      <td>38.0</td>\n",
       "      <td>35.0</td>\n",
       "      <td>36.0</td>\n",
       "      <td>42.0</td>\n",
       "      <td>20.0</td>\n",
       "    </tr>\n",
       "    <tr>\n",
       "      <th>is_goal</th>\n",
       "      <td>NaN</td>\n",
       "      <td>0.0</td>\n",
       "      <td>1.0</td>\n",
       "      <td>0.0</td>\n",
       "      <td>1.0</td>\n",
       "    </tr>\n",
       "    <tr>\n",
       "      <th>area_of_shot</th>\n",
       "      <td>Right Side(R)</td>\n",
       "      <td>Left Side(L)</td>\n",
       "      <td>Left Side Center(LC)</td>\n",
       "      <td>Right Side Center(RC)</td>\n",
       "      <td>Center(C)</td>\n",
       "    </tr>\n",
       "    <tr>\n",
       "      <th>shot_basics</th>\n",
       "      <td>Mid Range</td>\n",
       "      <td>Mid Range</td>\n",
       "      <td>Mid Range</td>\n",
       "      <td>Mid Range</td>\n",
       "      <td>Goal Area</td>\n",
       "    </tr>\n",
       "    <tr>\n",
       "      <th>range_of_shot</th>\n",
       "      <td>16-24 ft.</td>\n",
       "      <td>8-16 ft.</td>\n",
       "      <td>16-24 ft.</td>\n",
       "      <td>16-24 ft.</td>\n",
       "      <td>Less Than 8 ft.</td>\n",
       "    </tr>\n",
       "    <tr>\n",
       "      <th>team_name</th>\n",
       "      <td>Manchester United</td>\n",
       "      <td>Manchester United</td>\n",
       "      <td>Manchester United</td>\n",
       "      <td>Manchester United</td>\n",
       "      <td>NaN</td>\n",
       "    </tr>\n",
       "    <tr>\n",
       "      <th>date_of_game</th>\n",
       "      <td>2000-10-31</td>\n",
       "      <td>2000-10-31</td>\n",
       "      <td>2000-10-31</td>\n",
       "      <td>2000-10-31</td>\n",
       "      <td>2000-10-31</td>\n",
       "    </tr>\n",
       "    <tr>\n",
       "      <th>home/away</th>\n",
       "      <td>MANU @ POR</td>\n",
       "      <td>MANU @ POR</td>\n",
       "      <td>NaN</td>\n",
       "      <td>MANU @ POR</td>\n",
       "      <td>MANU @ POR</td>\n",
       "    </tr>\n",
       "    <tr>\n",
       "      <th>shot_id_number</th>\n",
       "      <td>1.0</td>\n",
       "      <td>2.0</td>\n",
       "      <td>3.0</td>\n",
       "      <td>4.0</td>\n",
       "      <td>5.0</td>\n",
       "    </tr>\n",
       "    <tr>\n",
       "      <th>lat/lng</th>\n",
       "      <td>45.539131, -122.651648</td>\n",
       "      <td>45.539131, -122.651648</td>\n",
       "      <td>45.539131, -122.651648</td>\n",
       "      <td>45.539131, -122.651648</td>\n",
       "      <td>45.539131, -122.651648</td>\n",
       "    </tr>\n",
       "    <tr>\n",
       "      <th>type_of_shot</th>\n",
       "      <td>shot - 30</td>\n",
       "      <td>shot - 45</td>\n",
       "      <td>shot - 25</td>\n",
       "      <td>NaN</td>\n",
       "      <td>NaN</td>\n",
       "    </tr>\n",
       "    <tr>\n",
       "      <th>type_of_combined_shot</th>\n",
       "      <td>NaN</td>\n",
       "      <td>NaN</td>\n",
       "      <td>NaN</td>\n",
       "      <td>shot - 3</td>\n",
       "      <td>shot - 1</td>\n",
       "    </tr>\n",
       "    <tr>\n",
       "      <th>match_id</th>\n",
       "      <td>20000012</td>\n",
       "      <td>20000012</td>\n",
       "      <td>20000012</td>\n",
       "      <td>20000012</td>\n",
       "      <td>20000012</td>\n",
       "    </tr>\n",
       "    <tr>\n",
       "      <th>team_id</th>\n",
       "      <td>1610612747</td>\n",
       "      <td>1610612747</td>\n",
       "      <td>1610612747</td>\n",
       "      <td>1610612747</td>\n",
       "      <td>1610612747</td>\n",
       "    </tr>\n",
       "  </tbody>\n",
       "</table>\n",
       "</div>"
      ],
      "text/plain": [
       "                                            0                       1  \\\n",
       "match_event_id                           10.0                    12.0   \n",
       "location_x                              167.0                  -157.0   \n",
       "location_y                               72.0                     0.0   \n",
       "remaining_min                            10.0                    10.0   \n",
       "power_of_shot                             1.0                     1.0   \n",
       "knockout_match                            0.0                     0.0   \n",
       "game_season                           2000-01                 2000-01   \n",
       "remaining_sec                            27.0                    22.0   \n",
       "distance_of_shot                         38.0                    35.0   \n",
       "is_goal                                   NaN                     0.0   \n",
       "area_of_shot                    Right Side(R)            Left Side(L)   \n",
       "shot_basics                         Mid Range               Mid Range   \n",
       "range_of_shot                       16-24 ft.                8-16 ft.   \n",
       "team_name                   Manchester United       Manchester United   \n",
       "date_of_game                       2000-10-31              2000-10-31   \n",
       "home/away                          MANU @ POR              MANU @ POR   \n",
       "shot_id_number                            1.0                     2.0   \n",
       "lat/lng                45.539131, -122.651648  45.539131, -122.651648   \n",
       "type_of_shot                        shot - 30               shot - 45   \n",
       "type_of_combined_shot                     NaN                     NaN   \n",
       "match_id                             20000012                20000012   \n",
       "team_id                            1610612747              1610612747   \n",
       "\n",
       "                                            2                       3  \\\n",
       "match_event_id                           35.0                    43.0   \n",
       "location_x                             -101.0                   138.0   \n",
       "location_y                              135.0                   175.0   \n",
       "remaining_min                             7.0                     6.0   \n",
       "power_of_shot                             1.0                     1.0   \n",
       "knockout_match                            0.0                     0.0   \n",
       "game_season                           2000-01                 2000-01   \n",
       "remaining_sec                            45.0                    52.0   \n",
       "distance_of_shot                         36.0                    42.0   \n",
       "is_goal                                   1.0                     0.0   \n",
       "area_of_shot             Left Side Center(LC)   Right Side Center(RC)   \n",
       "shot_basics                         Mid Range               Mid Range   \n",
       "range_of_shot                       16-24 ft.               16-24 ft.   \n",
       "team_name                   Manchester United       Manchester United   \n",
       "date_of_game                       2000-10-31              2000-10-31   \n",
       "home/away                                 NaN              MANU @ POR   \n",
       "shot_id_number                            3.0                     4.0   \n",
       "lat/lng                45.539131, -122.651648  45.539131, -122.651648   \n",
       "type_of_shot                        shot - 25                     NaN   \n",
       "type_of_combined_shot                     NaN                shot - 3   \n",
       "match_id                             20000012                20000012   \n",
       "team_id                            1610612747              1610612747   \n",
       "\n",
       "                                            4  \n",
       "match_event_id                          155.0  \n",
       "location_x                                0.0  \n",
       "location_y                                0.0  \n",
       "remaining_min                             NaN  \n",
       "power_of_shot                             2.0  \n",
       "knockout_match                            0.0  \n",
       "game_season                           2000-01  \n",
       "remaining_sec                            19.0  \n",
       "distance_of_shot                         20.0  \n",
       "is_goal                                   1.0  \n",
       "area_of_shot                        Center(C)  \n",
       "shot_basics                         Goal Area  \n",
       "range_of_shot                 Less Than 8 ft.  \n",
       "team_name                                 NaN  \n",
       "date_of_game                       2000-10-31  \n",
       "home/away                          MANU @ POR  \n",
       "shot_id_number                            5.0  \n",
       "lat/lng                45.539131, -122.651648  \n",
       "type_of_shot                              NaN  \n",
       "type_of_combined_shot                shot - 1  \n",
       "match_id                             20000012  \n",
       "team_id                            1610612747  "
      ]
     },
     "execution_count": 97,
     "metadata": {},
     "output_type": "execute_result"
    }
   ],
   "source": [
    "data.head().transpose()"
   ]
  },
  {
   "cell_type": "code",
   "execution_count": 98,
   "id": "f16b3ddc",
   "metadata": {},
   "outputs": [
    {
     "data": {
      "text/plain": [
       "0        2000-10-31\n",
       "1        2000-10-31\n",
       "2        2000-10-31\n",
       "3        2000-10-31\n",
       "4        2000-10-31\n",
       "            ...    \n",
       "30692    2000-06-19\n",
       "30693    2000-06-19\n",
       "30694    2000-06-19\n",
       "30695    2000-06-19\n",
       "30696    2000-06-19\n",
       "Name: date_of_game, Length: 30697, dtype: object"
      ]
     },
     "execution_count": 98,
     "metadata": {},
     "output_type": "execute_result"
    }
   ],
   "source": [
    "data['date_of_game']"
   ]
  },
  {
   "cell_type": "code",
   "execution_count": 99,
   "id": "854078fd",
   "metadata": {},
   "outputs": [],
   "source": [
    "data['date_of_game'] = pd.to_datetime(data['date_of_game'])"
   ]
  },
  {
   "cell_type": "code",
   "execution_count": 100,
   "id": "61095f86",
   "metadata": {},
   "outputs": [
    {
     "data": {
      "text/plain": [
       "0       2000-10-31\n",
       "1       2000-10-31\n",
       "2       2000-10-31\n",
       "3       2000-10-31\n",
       "4       2000-10-31\n",
       "           ...    \n",
       "30692   2000-06-19\n",
       "30693   2000-06-19\n",
       "30694   2000-06-19\n",
       "30695   2000-06-19\n",
       "30696   2000-06-19\n",
       "Name: date_of_game, Length: 30697, dtype: datetime64[ns]"
      ]
     },
     "execution_count": 100,
     "metadata": {},
     "output_type": "execute_result"
    }
   ],
   "source": [
    "data['date_of_game']"
   ]
  },
  {
   "cell_type": "code",
   "execution_count": 101,
   "id": "3900f0df",
   "metadata": {},
   "outputs": [
    {
     "data": {
      "text/plain": [
       "0        2000-01\n",
       "1        2000-01\n",
       "2        2000-01\n",
       "3        2000-01\n",
       "4        2000-01\n",
       "          ...   \n",
       "30692    1999-00\n",
       "30693    1999-00\n",
       "30694    1999-00\n",
       "30695    1999-00\n",
       "30696    1999-00\n",
       "Name: game_season, Length: 30697, dtype: object"
      ]
     },
     "execution_count": 101,
     "metadata": {},
     "output_type": "execute_result"
    }
   ],
   "source": [
    "data['game_season']"
   ]
  },
  {
   "cell_type": "code",
   "execution_count": 102,
   "id": "c87bf1a1",
   "metadata": {},
   "outputs": [
    {
     "data": {
      "text/plain": [
       "array(['2000-01', nan, '2001-02', '2002-03', '2003-04', '2004-05',\n",
       "       '2005-06', '2006-07', '2007-08', '2008-09', '2009-10', '2010-11',\n",
       "       '2011-12', '2012-13', '2013-14', '2014-15', '2015-16', '1996-97',\n",
       "       '1997-98', '1998-99', '1999-00'], dtype=object)"
      ]
     },
     "execution_count": 102,
     "metadata": {},
     "output_type": "execute_result"
    }
   ],
   "source": [
    "\n",
    "l_gs = data['game_season'].unique()\n",
    "l_gs"
   ]
  },
  {
   "cell_type": "code",
   "execution_count": 103,
   "id": "892b2473",
   "metadata": {},
   "outputs": [
    {
     "data": {
      "text/plain": [
       "array([ 0,  1,  2,  3,  4,  5,  6,  7,  8,  9, 10, 11, 12, 13, 14, 15, 16,\n",
       "       17, 18, 19, 20])"
      ]
     },
     "execution_count": 103,
     "metadata": {},
     "output_type": "execute_result"
    }
   ],
   "source": [
    "v_gs = np.arange(len(l_gs))\n",
    "v_gs"
   ]
  },
  {
   "cell_type": "code",
   "execution_count": 104,
   "id": "91d28cf3",
   "metadata": {},
   "outputs": [],
   "source": [
    "data['game_season'].replace(l_gs,v_gs,inplace=True)"
   ]
  },
  {
   "cell_type": "code",
   "execution_count": 105,
   "id": "bf244035",
   "metadata": {},
   "outputs": [
    {
     "data": {
      "text/plain": [
       "array([ 0,  1,  2,  3,  4,  5,  6,  7,  8,  9, 10, 11, 12, 13, 14, 15, 16,\n",
       "       17, 18, 19, 20], dtype=int64)"
      ]
     },
     "execution_count": 105,
     "metadata": {},
     "output_type": "execute_result"
    }
   ],
   "source": [
    "data['game_season'].unique()"
   ]
  },
  {
   "cell_type": "code",
   "execution_count": 106,
   "id": "cb56004c",
   "metadata": {},
   "outputs": [],
   "source": [
    "data['game_season'] = data['game_season'].astype(int)"
   ]
  },
  {
   "cell_type": "code",
   "execution_count": 107,
   "id": "0ac7bfb0",
   "metadata": {},
   "outputs": [
    {
     "data": {
      "text/plain": [
       "0         0\n",
       "1         0\n",
       "2         0\n",
       "3         0\n",
       "4         0\n",
       "         ..\n",
       "30692    20\n",
       "30693    20\n",
       "30694    20\n",
       "30695    20\n",
       "30696    20\n",
       "Name: game_season, Length: 30697, dtype: int32"
      ]
     },
     "execution_count": 107,
     "metadata": {},
     "output_type": "execute_result"
    }
   ],
   "source": [
    "data.game_season"
   ]
  },
  {
   "cell_type": "code",
   "execution_count": 108,
   "id": "1e4fb25b",
   "metadata": {},
   "outputs": [
    {
     "data": {
      "text/plain": [
       "match_event_id            1563\n",
       "location_x                1461\n",
       "location_y                1540\n",
       "remaining_min             1562\n",
       "power_of_shot             1486\n",
       "knockout_match            1517\n",
       "game_season                  0\n",
       "remaining_sec             1594\n",
       "distance_of_shot          1567\n",
       "is_goal                   6268\n",
       "area_of_shot              1502\n",
       "shot_basics               1575\n",
       "range_of_shot             1564\n",
       "team_name                 1535\n",
       "date_of_game              1550\n",
       "home/away                 1497\n",
       "shot_id_number            1563\n",
       "lat/lng                   1565\n",
       "type_of_shot             15280\n",
       "type_of_combined_shot    15417\n",
       "match_id                     0\n",
       "team_id                      0\n",
       "dtype: int64"
      ]
     },
     "execution_count": 108,
     "metadata": {},
     "output_type": "execute_result"
    }
   ],
   "source": [
    "data.isnull().sum()"
   ]
  },
  {
   "cell_type": "code",
   "execution_count": 109,
   "id": "71c14d36",
   "metadata": {},
   "outputs": [
    {
     "data": {
      "text/plain": [
       "match_event_id            1563\n",
       "location_x                1461\n",
       "location_y                1540\n",
       "remaining_min             1562\n",
       "power_of_shot                0\n",
       "knockout_match            1517\n",
       "game_season                  0\n",
       "remaining_sec             1594\n",
       "distance_of_shot          1567\n",
       "is_goal                   6268\n",
       "area_of_shot              1502\n",
       "shot_basics               1575\n",
       "range_of_shot             1564\n",
       "team_name                 1535\n",
       "date_of_game              1550\n",
       "home/away                 1497\n",
       "shot_id_number            1563\n",
       "lat/lng                   1565\n",
       "type_of_shot             15280\n",
       "type_of_combined_shot    15417\n",
       "match_id                     0\n",
       "team_id                      0\n",
       "dtype: int64"
      ]
     },
     "execution_count": 109,
     "metadata": {},
     "output_type": "execute_result"
    }
   ],
   "source": [
    "data['power_of_shot'].fillna(data.power_of_shot.mean(),inplace=True)\n",
    "data.isnull().sum()"
   ]
  },
  {
   "cell_type": "code",
   "execution_count": 110,
   "id": "48bbac45",
   "metadata": {},
   "outputs": [
    {
     "data": {
      "text/plain": [
       "shot - 3    11685\n",
       "shot - 4     2736\n",
       "shot - 1      609\n",
       "shot - 5       90\n",
       "shot - 2       82\n",
       "shot - 0       78\n",
       "Name: type_of_combined_shot, dtype: int64"
      ]
     },
     "execution_count": 110,
     "metadata": {},
     "output_type": "execute_result"
    }
   ],
   "source": [
    "data.type_of_combined_shot.value_counts()"
   ]
  },
  {
   "cell_type": "code",
   "execution_count": 111,
   "id": "c5251282",
   "metadata": {},
   "outputs": [
    {
     "data": {
      "text/plain": [
       "0    shot - 3\n",
       "dtype: object"
      ]
     },
     "execution_count": 111,
     "metadata": {},
     "output_type": "execute_result"
    }
   ],
   "source": [
    "data.type_of_combined_shot.mode()"
   ]
  },
  {
   "cell_type": "code",
   "execution_count": 112,
   "id": "a06c9df3",
   "metadata": {},
   "outputs": [],
   "source": [
    "data['type_of_combined_shot'].fillna(data.type_of_combined_shot.mode()[0],inplace=True)"
   ]
  },
  {
   "cell_type": "code",
   "execution_count": 113,
   "id": "ea45b286",
   "metadata": {},
   "outputs": [
    {
     "data": {
      "text/plain": [
       "match_event_id            1563\n",
       "location_x                1461\n",
       "location_y                1540\n",
       "remaining_min             1562\n",
       "power_of_shot                0\n",
       "knockout_match            1517\n",
       "game_season                  0\n",
       "remaining_sec             1594\n",
       "distance_of_shot          1567\n",
       "is_goal                   6268\n",
       "area_of_shot              1502\n",
       "shot_basics               1575\n",
       "range_of_shot             1564\n",
       "team_name                 1535\n",
       "date_of_game              1550\n",
       "home/away                 1497\n",
       "shot_id_number            1563\n",
       "lat/lng                   1565\n",
       "type_of_shot             15280\n",
       "type_of_combined_shot        0\n",
       "match_id                     0\n",
       "team_id                      0\n",
       "dtype: int64"
      ]
     },
     "execution_count": 113,
     "metadata": {},
     "output_type": "execute_result"
    }
   ],
   "source": [
    "data.isnull().sum()"
   ]
  },
  {
   "cell_type": "code",
   "execution_count": 114,
   "id": "4d8b85af",
   "metadata": {},
   "outputs": [
    {
     "data": {
      "text/plain": [
       "0        27.0\n",
       "1        22.0\n",
       "2        45.0\n",
       "3        52.0\n",
       "4        19.0\n",
       "         ... \n",
       "30692     5.0\n",
       "30693     5.0\n",
       "30694    28.0\n",
       "30695    10.0\n",
       "30696    39.0\n",
       "Name: remaining_sec, Length: 30697, dtype: float64"
      ]
     },
     "execution_count": 114,
     "metadata": {},
     "output_type": "execute_result"
    }
   ],
   "source": [
    "data['remaining_sec']"
   ]
  },
  {
   "cell_type": "code",
   "execution_count": 115,
   "id": "f00a88c2",
   "metadata": {},
   "outputs": [],
   "source": [
    "data['remaining_sec'].fillna(data.remaining_sec.median(),inplace=True)"
   ]
  },
  {
   "cell_type": "code",
   "execution_count": 116,
   "id": "31e1286f",
   "metadata": {},
   "outputs": [
    {
     "data": {
      "text/plain": [
       "match_event_id            1563\n",
       "location_x                1461\n",
       "location_y                1540\n",
       "remaining_min             1562\n",
       "power_of_shot                0\n",
       "knockout_match            1517\n",
       "game_season                  0\n",
       "remaining_sec                0\n",
       "distance_of_shot          1567\n",
       "is_goal                   6268\n",
       "area_of_shot              1502\n",
       "shot_basics               1575\n",
       "range_of_shot             1564\n",
       "team_name                 1535\n",
       "date_of_game              1550\n",
       "home/away                 1497\n",
       "shot_id_number            1563\n",
       "lat/lng                   1565\n",
       "type_of_shot             15280\n",
       "type_of_combined_shot        0\n",
       "match_id                     0\n",
       "team_id                      0\n",
       "dtype: int64"
      ]
     },
     "execution_count": 116,
     "metadata": {},
     "output_type": "execute_result"
    }
   ],
   "source": [
    "data.isnull().sum()"
   ]
  },
  {
   "cell_type": "code",
   "execution_count": 117,
   "id": "63b06368",
   "metadata": {},
   "outputs": [
    {
     "data": {
      "text/plain": [
       "match_event_id            1563\n",
       "location_x                1461\n",
       "location_y                1540\n",
       "remaining_min             1562\n",
       "power_of_shot                0\n",
       "knockout_match            1517\n",
       "game_season                  0\n",
       "remaining_sec                0\n",
       "distance_of_shot          1567\n",
       "is_goal                   6268\n",
       "area_of_shot              1502\n",
       "shot_basics               1575\n",
       "range_of_shot             1564\n",
       "team_name                 1535\n",
       "date_of_game              1550\n",
       "home/away                 1497\n",
       "shot_id_number               0\n",
       "lat/lng                   1565\n",
       "type_of_shot             15280\n",
       "type_of_combined_shot        0\n",
       "match_id                     0\n",
       "team_id                      0\n",
       "dtype: int64"
      ]
     },
     "execution_count": 117,
     "metadata": {},
     "output_type": "execute_result"
    }
   ],
   "source": [
    "# didnt got it\n",
    "data.shot_id_number = pd.Series(np.arange(1,data.shot_id_number.shape[0]+1))\n",
    "data.isnull().sum() "
   ]
  },
  {
   "cell_type": "code",
   "execution_count": 118,
   "id": "c6c0260b",
   "metadata": {},
   "outputs": [
    {
     "data": {
      "text/plain": [
       "match_event_id            1563\n",
       "location_x                   0\n",
       "location_y                   0\n",
       "remaining_min             1562\n",
       "power_of_shot                0\n",
       "knockout_match            1517\n",
       "game_season                  0\n",
       "remaining_sec                0\n",
       "distance_of_shot          1567\n",
       "is_goal                   6268\n",
       "area_of_shot              1502\n",
       "shot_basics               1575\n",
       "range_of_shot             1564\n",
       "team_name                 1535\n",
       "date_of_game              1550\n",
       "home/away                 1497\n",
       "shot_id_number               0\n",
       "lat/lng                   1565\n",
       "type_of_shot             15280\n",
       "type_of_combined_shot        0\n",
       "match_id                     0\n",
       "team_id                      0\n",
       "dtype: int64"
      ]
     },
     "execution_count": 118,
     "metadata": {},
     "output_type": "execute_result"
    }
   ],
   "source": [
    "data['location_x'].fillna(0,inplace=True)\n",
    "data['location_y'].fillna(0,inplace=True)\n",
    "data.isnull().sum()"
   ]
  },
  {
   "cell_type": "code",
   "execution_count": 119,
   "id": "080c11a4",
   "metadata": {},
   "outputs": [],
   "source": [
    "col = ['home/away','lat/lng', 'team_name','match_id','match_event_id', 'team_id', \n",
    "       'remaining_min', 'knockout_match',  'game_season' ]\n",
    "data.loc[:,col] = data.loc[:,col].ffill()"
   ]
  },
  {
   "cell_type": "code",
   "execution_count": 120,
   "id": "c196ca32",
   "metadata": {},
   "outputs": [
    {
     "data": {
      "text/plain": [
       "match_event_id               0\n",
       "location_x                   0\n",
       "location_y                   0\n",
       "remaining_min                0\n",
       "power_of_shot                0\n",
       "knockout_match               0\n",
       "game_season                  0\n",
       "remaining_sec                0\n",
       "distance_of_shot          1567\n",
       "is_goal                   6268\n",
       "area_of_shot              1502\n",
       "shot_basics               1575\n",
       "range_of_shot             1564\n",
       "team_name                    0\n",
       "date_of_game              1550\n",
       "home/away                    0\n",
       "shot_id_number               0\n",
       "lat/lng                      0\n",
       "type_of_shot             15280\n",
       "type_of_combined_shot        0\n",
       "match_id                     0\n",
       "team_id                      0\n",
       "dtype: int64"
      ]
     },
     "execution_count": 120,
     "metadata": {},
     "output_type": "execute_result"
    }
   ],
   "source": [
    "data.isnull().sum()"
   ]
  },
  {
   "cell_type": "code",
   "execution_count": 121,
   "id": "7968c0b5",
   "metadata": {},
   "outputs": [
    {
     "data": {
      "text/plain": [
       "array(['Mid Range', 'Goal Area', 'Goal Line', 'Penalty Spot', nan,\n",
       "       'Right Corner', 'Mid Ground Line', 'Left Corner'], dtype=object)"
      ]
     },
     "execution_count": 121,
     "metadata": {},
     "output_type": "execute_result"
    }
   ],
   "source": [
    "data.shot_basics.unique()"
   ]
  },
  {
   "cell_type": "code",
   "execution_count": 122,
   "id": "ab5d8b23",
   "metadata": {},
   "outputs": [
    {
     "data": {
      "text/plain": [
       "array(['16-24 ft.', '8-16 ft.', 'Less Than 8 ft.', '24+ ft.', nan,\n",
       "       'Back Court Shot'], dtype=object)"
      ]
     },
     "execution_count": 122,
     "metadata": {},
     "output_type": "execute_result"
    }
   ],
   "source": [
    "data.range_of_shot.unique()"
   ]
  },
  {
   "cell_type": "code",
   "execution_count": 123,
   "id": "65eb3643",
   "metadata": {},
   "outputs": [
    {
     "data": {
      "text/plain": [
       "match_event_id               0\n",
       "location_x                   0\n",
       "location_y                   0\n",
       "remaining_min                0\n",
       "power_of_shot                0\n",
       "knockout_match               0\n",
       "game_season                  0\n",
       "remaining_sec                0\n",
       "distance_of_shot          1567\n",
       "is_goal                   6268\n",
       "area_of_shot              1502\n",
       "shot_basics                 66\n",
       "range_of_shot             1564\n",
       "team_name                    0\n",
       "date_of_game              1550\n",
       "home/away                    0\n",
       "shot_id_number               0\n",
       "lat/lng                      0\n",
       "type_of_shot             15280\n",
       "type_of_combined_shot        0\n",
       "match_id                     0\n",
       "team_id                      0\n",
       "dtype: int64"
      ]
     },
     "execution_count": 123,
     "metadata": {},
     "output_type": "execute_result"
    }
   ],
   "source": [
    "# Filling Missing Values In \"shot_basics\" based on \"range_of_short\" column!\n",
    "# if the range of the shot is 16-24 ft it's a mid range shot\n",
    "data.loc[(data.range_of_shot == '16-24 ft.'), 'shot_basics'] = data[data.range_of_shot == '16-24 ft.'].shot_basics.fillna(value='Mid Range')\n",
    "\n",
    "# if the range of the shot is less than 8 ft then randomly assign goal line or goal area value to the shot \n",
    "data.loc[(data.range_of_shot == 'Less Than 8 ft.')&(data.shot_basics.isnull()), 'shot_basics']   =  pd.Series(data[(data.range_of_shot == 'Less Than 8 ft.')&(data.shot_basics.isnull())].shot_basics.apply(lambda x: x if type(x)==str else np.random.choice(['Goal Area', 'Goal Line'],1,p=[0.7590347263095939, 0.24096527369040613])[0]))\n",
    "# if the range of the shot is  8-16 ft then randomly assign goal line or mid range value to the shot\n",
    "data.loc[(data.range_of_shot == '8-16 ft.')&(data.shot_basics.isnull()), 'shot_basics']          =  pd.Series(data[(data.range_of_shot == '8-16 ft.')&(data.shot_basics.isnull())].shot_basics.apply(lambda x: x if type(x)==str else np.random.choice(['Mid Range', 'Goal Line'],1,p=[0.6488754615642833, 0.35112453843571667])[0]))\n",
    "# if the range of the shot is more than 24 ft then randomly assign one of the values from'Penalty Spot', 'Right Corner', 'Left Corner' to shot_basic field\n",
    "data.loc[(data.range_of_shot == '24+ ft.')&(data.shot_basics.isnull()), 'shot_basics']            =  pd.Series(data[(data.range_of_shot == '24+ ft.')&(data.shot_basics.isnull())].shot_basics.apply(lambda x: x if type(x)==str else np.random.choice(['Penalty Spot', 'Right Corner', 'Left Corner'],1,p=[0.8932384341637011, 0.06192170818505338, 0.044839857651245554])[0]))\n",
    "# if the shot is a back court shot then randomly assign one of the values from''Mid Ground Line', 'Penalty Spot' to shot_basic field\n",
    "data.loc[(data.range_of_shot == 'Back Court Shot')&(data.shot_basics.isnull()), 'shot_basics']    =  pd.Series(data[(data.range_of_shot == 'Back Court Shot')&(data.shot_basics.isnull())].shot_basics.apply(lambda x: x if type(x)==str else np.random.choice(['Mid Ground Line', 'Penalty Spot'],1,p=[0.8441558441558441, 0.15584415584415584])[0]))\n",
    "data.isna().sum()"
   ]
  },
  {
   "cell_type": "code",
   "execution_count": 124,
   "id": "1287e277",
   "metadata": {},
   "outputs": [
    {
     "data": {
      "text/plain": [
       "array(['16-24 ft.', '8-16 ft.', 'Less Than 8 ft.', '24+ ft.', nan,\n",
       "       'Back Court Shot'], dtype=object)"
      ]
     },
     "execution_count": 124,
     "metadata": {},
     "output_type": "execute_result"
    }
   ],
   "source": [
    "data['range_of_shot'].unique() "
   ]
  },
  {
   "cell_type": "code",
   "execution_count": 125,
   "id": "66f15563",
   "metadata": {},
   "outputs": [
    {
     "data": {
      "text/plain": [
       "match_event_id               0\n",
       "location_x                   0\n",
       "location_y                   0\n",
       "remaining_min                0\n",
       "power_of_shot                0\n",
       "knockout_match               0\n",
       "game_season                  0\n",
       "remaining_sec                0\n",
       "distance_of_shot          1567\n",
       "is_goal                   6268\n",
       "area_of_shot              1502\n",
       "shot_basics                 66\n",
       "range_of_shot               66\n",
       "team_name                    0\n",
       "date_of_game              1550\n",
       "home/away                    0\n",
       "shot_id_number               0\n",
       "lat/lng                      0\n",
       "type_of_shot             15280\n",
       "type_of_combined_shot        0\n",
       "match_id                     0\n",
       "team_id                      0\n",
       "dtype: int64"
      ]
     },
     "execution_count": 125,
     "metadata": {},
     "output_type": "execute_result"
    }
   ],
   "source": [
    "# Filling Missing Values In \"range_of_short\" based on \"short_basics\" column!\n",
    "\n",
    "# if shot_basics is Goal Area, then range of shot is Less Than 8 ft\n",
    "data.loc[(data.shot_basics == 'Goal Area'), 'range_of_shot']       = data[data.shot_basics == 'Goal Area'].range_of_shot.fillna(value='Less Than 8 ft.')\n",
    "# if shot_basics is Penalty Spot, then range of shot is  24+ ft.\n",
    "data.loc[(data.shot_basics == 'Penalty Spot'), 'range_of_shot']    = data[data.shot_basics == 'Penalty Spot'].range_of_shot.fillna(value= '24+ ft.')\n",
    "# if shot_basics is Right Corner, then range of shot is  24+ ft.\n",
    "data.loc[(data.shot_basics == 'Right Corner'), 'range_of_shot']    = data[data.shot_basics == 'Right Corner'].range_of_shot.fillna(value='24+ ft.')\n",
    "# if shot_basics is Left Corner, then range of shot is  24+ ft.\n",
    "data.loc[(data.shot_basics == 'Left Corner'), 'range_of_shot']     = data[data.shot_basics == 'Left Corner'].range_of_shot.fillna(value='24+ ft.')\n",
    "# if shot_basics is Mid Ground Line , then range of shot is  Back Court Shot\n",
    "data.loc[(data.shot_basics == 'Mid Ground Line'), 'range_of_shot'] = data[data.shot_basics == 'Mid Ground Line'].range_of_shot.fillna(value='Back Court Shot')\n",
    "# if shot_basics is Mid Range then randomly assign '16-24 ft.' or  '8-16 ft.' to range of shot\n",
    "data.loc[(data.shot_basics == 'Mid Range')&(data.range_of_shot.isnull()), 'range_of_shot']       = pd.Series(data[(data.shot_basics == 'Mid Range')&(data.range_of_shot.isnull())].range_of_shot.apply(lambda x: x if type(x)==str else np.random.choice(['16-24 ft.', '8-16 ft.'],1,p=[0.6527708850289495, 0.34722911497105047])[0]))\n",
    "# if shot_basics is Goal Line then randomly assign ''8-16 ft.' or  'Less Than 8 ft.' to range of shot\n",
    "data.loc[(data.shot_basics == 'Goal Line')&(data.range_of_shot.isnull()), 'range_of_shot']       = pd.Series(data[(data.shot_basics == 'Goal Line')&(data.range_of_shot.isnull())].range_of_shot.apply(lambda x: x if type(x)==str else np.random.choice(['8-16 ft.', 'Less Than 8 ft.'],1,p=[0.5054360956752839, 0.49456390432471614])[0]))\n",
    "\n",
    "data.isnull().sum() # number of missing values for range_of_shot column should have been reduced"
   ]
  },
  {
   "cell_type": "code",
   "execution_count": 126,
   "id": "7aa4f3cc",
   "metadata": {},
   "outputs": [
    {
     "data": {
      "text/plain": [
       "match_event_id               0\n",
       "location_x                   0\n",
       "location_y                   0\n",
       "remaining_min                0\n",
       "power_of_shot                0\n",
       "knockout_match               0\n",
       "game_season                  0\n",
       "remaining_sec                0\n",
       "distance_of_shot          1567\n",
       "is_goal                   6268\n",
       "area_of_shot              1502\n",
       "shot_basics                  0\n",
       "range_of_shot                0\n",
       "team_name                    0\n",
       "date_of_game              1550\n",
       "home/away                    0\n",
       "shot_id_number               0\n",
       "lat/lng                      0\n",
       "type_of_shot             15280\n",
       "type_of_combined_shot        0\n",
       "match_id                     0\n",
       "team_id                      0\n",
       "dtype: int64"
      ]
     },
     "execution_count": 126,
     "metadata": {},
     "output_type": "execute_result"
    }
   ],
   "source": [
    "data.shot_basics.ffill(inplace=True)\n",
    "data.range_of_shot.ffill(inplace=True)\n",
    "data.isnull().sum()"
   ]
  },
  {
   "cell_type": "code",
   "execution_count": 127,
   "id": "5672a3e0",
   "metadata": {},
   "outputs": [
    {
     "data": {
      "text/plain": [
       "array(['Right Side(R)', 'Left Side(L)', 'Left Side Center(LC)',\n",
       "       'Right Side Center(RC)', 'Center(C)', nan, 'Mid Ground(MG)'],\n",
       "      dtype=object)"
      ]
     },
     "execution_count": 127,
     "metadata": {},
     "output_type": "execute_result"
    }
   ],
   "source": [
    "data.area_of_shot.unique()"
   ]
  },
  {
   "cell_type": "code",
   "execution_count": 128,
   "id": "c7a5c6b4",
   "metadata": {},
   "outputs": [
    {
     "data": {
      "text/plain": [
       "match_event_id               0\n",
       "location_x                   0\n",
       "location_y                   0\n",
       "remaining_min                0\n",
       "power_of_shot                0\n",
       "knockout_match               0\n",
       "game_season                  0\n",
       "remaining_sec                0\n",
       "distance_of_shot          1567\n",
       "is_goal                   6268\n",
       "area_of_shot                 0\n",
       "shot_basics                  0\n",
       "range_of_shot                0\n",
       "team_name                    0\n",
       "date_of_game              1550\n",
       "home/away                    0\n",
       "shot_id_number               0\n",
       "lat/lng                      0\n",
       "type_of_shot             15280\n",
       "type_of_combined_shot        0\n",
       "match_id                     0\n",
       "team_id                      0\n",
       "dtype: int64"
      ]
     },
     "execution_count": 128,
     "metadata": {},
     "output_type": "execute_result"
    }
   ],
   "source": [
    "data.area_of_shot.fillna(value='Center(LC)',inplace=True)\n",
    "data.isnull().sum()"
   ]
  },
  {
   "cell_type": "code",
   "execution_count": 129,
   "id": "8596dff4",
   "metadata": {},
   "outputs": [
    {
     "data": {
      "text/plain": [
       "array([38., 35., 36., 42., 20., 34., 22., 32., 45., 37., nan, 29., 25.,\n",
       "       40., 31., 27., 46., 39., 28., 33., 21., 47., 48., 44., 43., 24.,\n",
       "       41., 67., 30., 49., 62., 23., 68., 50., 65., 26., 53., 56., 82.,\n",
       "       51., 90., 63., 58., 57., 60., 52., 76., 55., 75., 71., 88., 59.,\n",
       "       61., 84., 70., 69., 79., 80., 74., 94., 64., 81., 85., 72., 54.,\n",
       "       66., 78., 89., 77., 73., 87., 91., 97., 99.])"
      ]
     },
     "execution_count": 129,
     "metadata": {},
     "output_type": "execute_result"
    }
   ],
   "source": [
    "data.distance_of_shot.unique()"
   ]
  },
  {
   "cell_type": "code",
   "execution_count": 130,
   "id": "b26bc416",
   "metadata": {},
   "outputs": [
    {
     "data": {
      "text/plain": [
       "match_event_id               0\n",
       "location_x                   0\n",
       "location_y                   0\n",
       "remaining_min                0\n",
       "power_of_shot                0\n",
       "knockout_match               0\n",
       "game_season                  0\n",
       "remaining_sec                0\n",
       "distance_of_shot             0\n",
       "is_goal                   6268\n",
       "area_of_shot                 0\n",
       "shot_basics                  0\n",
       "range_of_shot                0\n",
       "team_name                    0\n",
       "date_of_game              1550\n",
       "home/away                    0\n",
       "shot_id_number               0\n",
       "lat/lng                      0\n",
       "type_of_shot             15280\n",
       "type_of_combined_shot        0\n",
       "match_id                     0\n",
       "team_id                      0\n",
       "dtype: int64"
      ]
     },
     "execution_count": 130,
     "metadata": {},
     "output_type": "execute_result"
    }
   ],
   "source": [
    "#Filling the Missing values in \"distance_of_shot\"\n",
    "# if distance_of_shot isnull randomly assign a value from 20,45,44,37\n",
    "data.loc[data['distance_of_shot'].isnull(), 'distance_of_shot'] = pd.Series(data.loc[data['distance_of_shot'].isnull(), 'distance_of_shot'].apply(lambda x: x if type(x)==str else np.random.choice([20,45,44,37],1,p=[0.5278056615137523,0.18630797028709095,0.14384661714515157,0.1420397510540052])[0])) \n",
    "data.isnull().sum() # number of missing values for distance_of_shot column should be zero"
   ]
  },
  {
   "cell_type": "code",
   "execution_count": 131,
   "id": "f54332fe",
   "metadata": {},
   "outputs": [
    {
     "name": "stdout",
     "output_type": "stream",
     "text": [
      "the Shape of Train Dataset (24429, 22)\n"
     ]
    },
    {
     "data": {
      "text/html": [
       "<div>\n",
       "<style scoped>\n",
       "    .dataframe tbody tr th:only-of-type {\n",
       "        vertical-align: middle;\n",
       "    }\n",
       "\n",
       "    .dataframe tbody tr th {\n",
       "        vertical-align: top;\n",
       "    }\n",
       "\n",
       "    .dataframe thead th {\n",
       "        text-align: right;\n",
       "    }\n",
       "</style>\n",
       "<table border=\"1\" class=\"dataframe\">\n",
       "  <thead>\n",
       "    <tr style=\"text-align: right;\">\n",
       "      <th></th>\n",
       "      <th>match_event_id</th>\n",
       "      <th>location_x</th>\n",
       "      <th>location_y</th>\n",
       "      <th>remaining_min</th>\n",
       "      <th>power_of_shot</th>\n",
       "      <th>knockout_match</th>\n",
       "      <th>game_season</th>\n",
       "      <th>remaining_sec</th>\n",
       "      <th>distance_of_shot</th>\n",
       "      <th>is_goal</th>\n",
       "      <th>...</th>\n",
       "      <th>range_of_shot</th>\n",
       "      <th>team_name</th>\n",
       "      <th>date_of_game</th>\n",
       "      <th>home/away</th>\n",
       "      <th>shot_id_number</th>\n",
       "      <th>lat/lng</th>\n",
       "      <th>type_of_shot</th>\n",
       "      <th>type_of_combined_shot</th>\n",
       "      <th>match_id</th>\n",
       "      <th>team_id</th>\n",
       "    </tr>\n",
       "  </thead>\n",
       "  <tbody>\n",
       "    <tr>\n",
       "      <th>0</th>\n",
       "      <td>12.0</td>\n",
       "      <td>-157.0</td>\n",
       "      <td>0.0</td>\n",
       "      <td>10.0</td>\n",
       "      <td>1.0</td>\n",
       "      <td>0.0</td>\n",
       "      <td>0</td>\n",
       "      <td>22.0</td>\n",
       "      <td>35.0</td>\n",
       "      <td>0.0</td>\n",
       "      <td>...</td>\n",
       "      <td>8-16 ft.</td>\n",
       "      <td>Manchester United</td>\n",
       "      <td>2000-10-31</td>\n",
       "      <td>MANU @ POR</td>\n",
       "      <td>2</td>\n",
       "      <td>45.539131, -122.651648</td>\n",
       "      <td>shot - 45</td>\n",
       "      <td>shot - 3</td>\n",
       "      <td>20000012</td>\n",
       "      <td>1610612747</td>\n",
       "    </tr>\n",
       "    <tr>\n",
       "      <th>1</th>\n",
       "      <td>35.0</td>\n",
       "      <td>-101.0</td>\n",
       "      <td>135.0</td>\n",
       "      <td>7.0</td>\n",
       "      <td>1.0</td>\n",
       "      <td>0.0</td>\n",
       "      <td>0</td>\n",
       "      <td>45.0</td>\n",
       "      <td>36.0</td>\n",
       "      <td>1.0</td>\n",
       "      <td>...</td>\n",
       "      <td>16-24 ft.</td>\n",
       "      <td>Manchester United</td>\n",
       "      <td>2000-10-31</td>\n",
       "      <td>MANU @ POR</td>\n",
       "      <td>3</td>\n",
       "      <td>45.539131, -122.651648</td>\n",
       "      <td>shot - 25</td>\n",
       "      <td>shot - 3</td>\n",
       "      <td>20000012</td>\n",
       "      <td>1610612747</td>\n",
       "    </tr>\n",
       "    <tr>\n",
       "      <th>2</th>\n",
       "      <td>43.0</td>\n",
       "      <td>138.0</td>\n",
       "      <td>175.0</td>\n",
       "      <td>6.0</td>\n",
       "      <td>1.0</td>\n",
       "      <td>0.0</td>\n",
       "      <td>0</td>\n",
       "      <td>52.0</td>\n",
       "      <td>42.0</td>\n",
       "      <td>0.0</td>\n",
       "      <td>...</td>\n",
       "      <td>16-24 ft.</td>\n",
       "      <td>Manchester United</td>\n",
       "      <td>2000-10-31</td>\n",
       "      <td>MANU @ POR</td>\n",
       "      <td>4</td>\n",
       "      <td>45.539131, -122.651648</td>\n",
       "      <td>NaN</td>\n",
       "      <td>shot - 3</td>\n",
       "      <td>20000012</td>\n",
       "      <td>1610612747</td>\n",
       "    </tr>\n",
       "    <tr>\n",
       "      <th>3</th>\n",
       "      <td>155.0</td>\n",
       "      <td>0.0</td>\n",
       "      <td>0.0</td>\n",
       "      <td>6.0</td>\n",
       "      <td>2.0</td>\n",
       "      <td>0.0</td>\n",
       "      <td>0</td>\n",
       "      <td>19.0</td>\n",
       "      <td>20.0</td>\n",
       "      <td>1.0</td>\n",
       "      <td>...</td>\n",
       "      <td>Less Than 8 ft.</td>\n",
       "      <td>Manchester United</td>\n",
       "      <td>2000-10-31</td>\n",
       "      <td>MANU @ POR</td>\n",
       "      <td>5</td>\n",
       "      <td>45.539131, -122.651648</td>\n",
       "      <td>NaN</td>\n",
       "      <td>shot - 1</td>\n",
       "      <td>20000012</td>\n",
       "      <td>1610612747</td>\n",
       "    </tr>\n",
       "    <tr>\n",
       "      <th>4</th>\n",
       "      <td>244.0</td>\n",
       "      <td>-145.0</td>\n",
       "      <td>-11.0</td>\n",
       "      <td>9.0</td>\n",
       "      <td>3.0</td>\n",
       "      <td>0.0</td>\n",
       "      <td>1</td>\n",
       "      <td>32.0</td>\n",
       "      <td>34.0</td>\n",
       "      <td>0.0</td>\n",
       "      <td>...</td>\n",
       "      <td>8-16 ft.</td>\n",
       "      <td>Manchester United</td>\n",
       "      <td>2000-10-31</td>\n",
       "      <td>MANU @ POR</td>\n",
       "      <td>6</td>\n",
       "      <td>45.539131, -122.651648</td>\n",
       "      <td>shot - 17</td>\n",
       "      <td>shot - 3</td>\n",
       "      <td>20000012</td>\n",
       "      <td>1610612747</td>\n",
       "    </tr>\n",
       "  </tbody>\n",
       "</table>\n",
       "<p>5 rows × 22 columns</p>\n",
       "</div>"
      ],
      "text/plain": [
       "   match_event_id  location_x  location_y  remaining_min  power_of_shot  \\\n",
       "0            12.0      -157.0         0.0           10.0            1.0   \n",
       "1            35.0      -101.0       135.0            7.0            1.0   \n",
       "2            43.0       138.0       175.0            6.0            1.0   \n",
       "3           155.0         0.0         0.0            6.0            2.0   \n",
       "4           244.0      -145.0       -11.0            9.0            3.0   \n",
       "\n",
       "   knockout_match  game_season  remaining_sec  distance_of_shot  is_goal  ...  \\\n",
       "0             0.0            0           22.0              35.0      0.0  ...   \n",
       "1             0.0            0           45.0              36.0      1.0  ...   \n",
       "2             0.0            0           52.0              42.0      0.0  ...   \n",
       "3             0.0            0           19.0              20.0      1.0  ...   \n",
       "4             0.0            1           32.0              34.0      0.0  ...   \n",
       "\n",
       "     range_of_shot          team_name date_of_game   home/away shot_id_number  \\\n",
       "0         8-16 ft.  Manchester United   2000-10-31  MANU @ POR              2   \n",
       "1        16-24 ft.  Manchester United   2000-10-31  MANU @ POR              3   \n",
       "2        16-24 ft.  Manchester United   2000-10-31  MANU @ POR              4   \n",
       "3  Less Than 8 ft.  Manchester United   2000-10-31  MANU @ POR              5   \n",
       "4         8-16 ft.  Manchester United   2000-10-31  MANU @ POR              6   \n",
       "\n",
       "                  lat/lng  type_of_shot type_of_combined_shot  match_id  \\\n",
       "0  45.539131, -122.651648     shot - 45              shot - 3  20000012   \n",
       "1  45.539131, -122.651648     shot - 25              shot - 3  20000012   \n",
       "2  45.539131, -122.651648           NaN              shot - 3  20000012   \n",
       "3  45.539131, -122.651648           NaN              shot - 1  20000012   \n",
       "4  45.539131, -122.651648     shot - 17              shot - 3  20000012   \n",
       "\n",
       "      team_id  \n",
       "0  1610612747  \n",
       "1  1610612747  \n",
       "2  1610612747  \n",
       "3  1610612747  \n",
       "4  1610612747  \n",
       "\n",
       "[5 rows x 22 columns]"
      ]
     },
     "execution_count": 131,
     "metadata": {},
     "output_type": "execute_result"
    }
   ],
   "source": [
    "# Making the train Dataset\n",
    "train = data[data.is_goal.notnull()]\n",
    "print('the Shape of Train Dataset',train.shape)\n",
    "train.set_index(np.arange(train.shape[0]),inplace=True)\n",
    "train.head()"
   ]
  },
  {
   "cell_type": "code",
   "execution_count": 132,
   "id": "9038896c",
   "metadata": {},
   "outputs": [
    {
     "name": "stdout",
     "output_type": "stream",
     "text": [
      "The Shape of Test Dataset (6268, 22)\n"
     ]
    },
    {
     "data": {
      "text/html": [
       "<div>\n",
       "<style scoped>\n",
       "    .dataframe tbody tr th:only-of-type {\n",
       "        vertical-align: middle;\n",
       "    }\n",
       "\n",
       "    .dataframe tbody tr th {\n",
       "        vertical-align: top;\n",
       "    }\n",
       "\n",
       "    .dataframe thead th {\n",
       "        text-align: right;\n",
       "    }\n",
       "</style>\n",
       "<table border=\"1\" class=\"dataframe\">\n",
       "  <thead>\n",
       "    <tr style=\"text-align: right;\">\n",
       "      <th></th>\n",
       "      <th>match_event_id</th>\n",
       "      <th>location_x</th>\n",
       "      <th>location_y</th>\n",
       "      <th>remaining_min</th>\n",
       "      <th>power_of_shot</th>\n",
       "      <th>knockout_match</th>\n",
       "      <th>game_season</th>\n",
       "      <th>remaining_sec</th>\n",
       "      <th>distance_of_shot</th>\n",
       "      <th>is_goal</th>\n",
       "      <th>...</th>\n",
       "      <th>range_of_shot</th>\n",
       "      <th>team_name</th>\n",
       "      <th>date_of_game</th>\n",
       "      <th>home/away</th>\n",
       "      <th>shot_id_number</th>\n",
       "      <th>lat/lng</th>\n",
       "      <th>type_of_shot</th>\n",
       "      <th>type_of_combined_shot</th>\n",
       "      <th>match_id</th>\n",
       "      <th>team_id</th>\n",
       "    </tr>\n",
       "  </thead>\n",
       "  <tbody>\n",
       "    <tr>\n",
       "      <th>0</th>\n",
       "      <td>10.0</td>\n",
       "      <td>167.0</td>\n",
       "      <td>72.0</td>\n",
       "      <td>10.0</td>\n",
       "      <td>1.0</td>\n",
       "      <td>0.0</td>\n",
       "      <td>0</td>\n",
       "      <td>27.0</td>\n",
       "      <td>38.0</td>\n",
       "      <td>NaN</td>\n",
       "      <td>...</td>\n",
       "      <td>16-24 ft.</td>\n",
       "      <td>Manchester United</td>\n",
       "      <td>2000-10-31</td>\n",
       "      <td>MANU @ POR</td>\n",
       "      <td>1</td>\n",
       "      <td>45.539131, -122.651648</td>\n",
       "      <td>shot - 30</td>\n",
       "      <td>shot - 3</td>\n",
       "      <td>20000012</td>\n",
       "      <td>1610612747</td>\n",
       "    </tr>\n",
       "    <tr>\n",
       "      <th>1</th>\n",
       "      <td>254.0</td>\n",
       "      <td>1.0</td>\n",
       "      <td>28.0</td>\n",
       "      <td>8.0</td>\n",
       "      <td>3.0</td>\n",
       "      <td>0.0</td>\n",
       "      <td>0</td>\n",
       "      <td>5.0</td>\n",
       "      <td>22.0</td>\n",
       "      <td>NaN</td>\n",
       "      <td>...</td>\n",
       "      <td>Less Than 8 ft.</td>\n",
       "      <td>Manchester United</td>\n",
       "      <td>2000-10-31</td>\n",
       "      <td>MANU @ POR</td>\n",
       "      <td>8</td>\n",
       "      <td>45.539131, -122.651648</td>\n",
       "      <td>NaN</td>\n",
       "      <td>shot - 3</td>\n",
       "      <td>20000012</td>\n",
       "      <td>1610612747</td>\n",
       "    </tr>\n",
       "    <tr>\n",
       "      <th>2</th>\n",
       "      <td>100.0</td>\n",
       "      <td>0.0</td>\n",
       "      <td>0.0</td>\n",
       "      <td>0.0</td>\n",
       "      <td>1.0</td>\n",
       "      <td>0.0</td>\n",
       "      <td>0</td>\n",
       "      <td>1.0</td>\n",
       "      <td>20.0</td>\n",
       "      <td>NaN</td>\n",
       "      <td>...</td>\n",
       "      <td>Less Than 8 ft.</td>\n",
       "      <td>Manchester United</td>\n",
       "      <td>2000-11-01</td>\n",
       "      <td>MANU vs. UTA</td>\n",
       "      <td>17</td>\n",
       "      <td>42.982923, -71.446094</td>\n",
       "      <td>NaN</td>\n",
       "      <td>shot - 4</td>\n",
       "      <td>20000019</td>\n",
       "      <td>1610612747</td>\n",
       "    </tr>\n",
       "    <tr>\n",
       "      <th>3</th>\n",
       "      <td>249.0</td>\n",
       "      <td>0.0</td>\n",
       "      <td>0.0</td>\n",
       "      <td>10.0</td>\n",
       "      <td>3.0</td>\n",
       "      <td>0.0</td>\n",
       "      <td>1</td>\n",
       "      <td>46.0</td>\n",
       "      <td>20.0</td>\n",
       "      <td>NaN</td>\n",
       "      <td>...</td>\n",
       "      <td>Less Than 8 ft.</td>\n",
       "      <td>Manchester United</td>\n",
       "      <td>2000-11-01</td>\n",
       "      <td>MANU vs. UTA</td>\n",
       "      <td>20</td>\n",
       "      <td>42.982923, -71.446094</td>\n",
       "      <td>shot - 4</td>\n",
       "      <td>shot - 3</td>\n",
       "      <td>20000019</td>\n",
       "      <td>1610612747</td>\n",
       "    </tr>\n",
       "    <tr>\n",
       "      <th>4</th>\n",
       "      <td>265.0</td>\n",
       "      <td>134.0</td>\n",
       "      <td>127.0</td>\n",
       "      <td>9.0</td>\n",
       "      <td>3.0</td>\n",
       "      <td>0.0</td>\n",
       "      <td>1</td>\n",
       "      <td>4.0</td>\n",
       "      <td>38.0</td>\n",
       "      <td>NaN</td>\n",
       "      <td>...</td>\n",
       "      <td>16-24 ft.</td>\n",
       "      <td>Manchester United</td>\n",
       "      <td>2000-11-01</td>\n",
       "      <td>MANU vs. UTA</td>\n",
       "      <td>22</td>\n",
       "      <td>42.982923, -71.446094</td>\n",
       "      <td>shot - 24</td>\n",
       "      <td>shot - 3</td>\n",
       "      <td>20000019</td>\n",
       "      <td>1610612747</td>\n",
       "    </tr>\n",
       "  </tbody>\n",
       "</table>\n",
       "<p>5 rows × 22 columns</p>\n",
       "</div>"
      ],
      "text/plain": [
       "   match_event_id  location_x  location_y  remaining_min  power_of_shot  \\\n",
       "0            10.0       167.0        72.0           10.0            1.0   \n",
       "1           254.0         1.0        28.0            8.0            3.0   \n",
       "2           100.0         0.0         0.0            0.0            1.0   \n",
       "3           249.0         0.0         0.0           10.0            3.0   \n",
       "4           265.0       134.0       127.0            9.0            3.0   \n",
       "\n",
       "   knockout_match  game_season  remaining_sec  distance_of_shot  is_goal  ...  \\\n",
       "0             0.0            0           27.0              38.0      NaN  ...   \n",
       "1             0.0            0            5.0              22.0      NaN  ...   \n",
       "2             0.0            0            1.0              20.0      NaN  ...   \n",
       "3             0.0            1           46.0              20.0      NaN  ...   \n",
       "4             0.0            1            4.0              38.0      NaN  ...   \n",
       "\n",
       "     range_of_shot          team_name date_of_game     home/away  \\\n",
       "0        16-24 ft.  Manchester United   2000-10-31    MANU @ POR   \n",
       "1  Less Than 8 ft.  Manchester United   2000-10-31    MANU @ POR   \n",
       "2  Less Than 8 ft.  Manchester United   2000-11-01  MANU vs. UTA   \n",
       "3  Less Than 8 ft.  Manchester United   2000-11-01  MANU vs. UTA   \n",
       "4        16-24 ft.  Manchester United   2000-11-01  MANU vs. UTA   \n",
       "\n",
       "  shot_id_number                 lat/lng  type_of_shot type_of_combined_shot  \\\n",
       "0              1  45.539131, -122.651648     shot - 30              shot - 3   \n",
       "1              8  45.539131, -122.651648           NaN              shot - 3   \n",
       "2             17   42.982923, -71.446094           NaN              shot - 4   \n",
       "3             20   42.982923, -71.446094      shot - 4              shot - 3   \n",
       "4             22   42.982923, -71.446094     shot - 24              shot - 3   \n",
       "\n",
       "   match_id     team_id  \n",
       "0  20000012  1610612747  \n",
       "1  20000012  1610612747  \n",
       "2  20000019  1610612747  \n",
       "3  20000019  1610612747  \n",
       "4  20000019  1610612747  \n",
       "\n",
       "[5 rows x 22 columns]"
      ]
     },
     "execution_count": 132,
     "metadata": {},
     "output_type": "execute_result"
    }
   ],
   "source": [
    "# Making the Test Dataset\n",
    "test = data[data.is_goal.isnull()]\n",
    "print('The Shape of Test Dataset',test.shape)\n",
    "test.set_index(np.arange(test.shape[0]), inplace=True)\n",
    "test.head()"
   ]
  },
  {
   "cell_type": "code",
   "execution_count": 133,
   "id": "e2219dcb",
   "metadata": {},
   "outputs": [
    {
     "data": {
      "text/plain": [
       "array([0., 1.])"
      ]
     },
     "execution_count": 133,
     "metadata": {},
     "output_type": "execute_result"
    }
   ],
   "source": [
    "train.is_goal.unique()"
   ]
  },
  {
   "cell_type": "code",
   "execution_count": 134,
   "id": "755f3abf",
   "metadata": {},
   "outputs": [
    {
     "data": {
      "text/plain": [
       "array(['shot - 45', 'shot - 25', nan, 'shot - 17', 'shot - 36',\n",
       "       'shot - 44', 'shot - 7', 'shot - 12', 'shot - 6', 'shot - 20',\n",
       "       'shot - 30', 'shot - 54', 'shot - 42', 'shot - 39', 'shot - 37',\n",
       "       'shot - 21', 'shot - 4', 'shot - 0', 'shot - 1', 'shot - 2',\n",
       "       'shot - 15', 'shot - 10', 'shot - 49', 'shot - 51', 'shot - 46',\n",
       "       'shot - 11', 'shot - 32', 'shot - 24', 'shot - 3', 'shot - 53',\n",
       "       'shot - 5', 'shot - 41', 'shot - 40', 'shot - 19', 'shot - 52',\n",
       "       'shot - 16', 'shot - 56', 'shot - 55', 'shot - 43', 'shot - 29',\n",
       "       'shot - 31', 'shot - 13', 'shot - 35', 'shot - 26', 'shot - 28',\n",
       "       'shot - 33', 'shot - 22', 'shot - 50', 'shot - 8', 'shot - 34',\n",
       "       'shot - 38', 'shot - 9', 'shot - 48', 'shot - 23', 'shot - 18',\n",
       "       'shot - 27', 'shot - 14', 'shot - 47'], dtype=object)"
      ]
     },
     "execution_count": 134,
     "metadata": {},
     "output_type": "execute_result"
    }
   ],
   "source": [
    "train.type_of_shot.unique()"
   ]
  },
  {
   "cell_type": "code",
   "execution_count": 135,
   "id": "e12c347e",
   "metadata": {},
   "outputs": [
    {
     "data": {
      "text/plain": [
       "12136"
      ]
     },
     "execution_count": 135,
     "metadata": {},
     "output_type": "execute_result"
    }
   ],
   "source": [
    "train.type_of_shot.isnull().sum()"
   ]
  },
  {
   "cell_type": "code",
   "execution_count": 136,
   "id": "99ccc6ba",
   "metadata": {},
   "outputs": [
    {
     "data": {
      "text/plain": [
       "shot - 4     604\n",
       "shot - 39    432\n",
       "shot - 44    330\n",
       "shot - 36    326\n",
       "shot - 15    292\n",
       "shot - 38    268\n",
       "Name: type_of_shot, dtype: int64"
      ]
     },
     "execution_count": 136,
     "metadata": {},
     "output_type": "execute_result"
    }
   ],
   "source": [
    "lgoal = train[train.is_goal==1].type_of_shot.value_counts().head(6)\n",
    "lgoal"
   ]
  },
  {
   "cell_type": "code",
   "execution_count": 137,
   "id": "0fe740e9",
   "metadata": {},
   "outputs": [
    {
     "name": "stdout",
     "output_type": "stream",
     "text": [
      "2252\n",
      "[0.2682060390763766, 0.19182948490230906, 0.14653641207815277, 0.1447602131438721, 0.12966252220248667, 0.11900532859680284]\n"
     ]
    }
   ],
   "source": [
    "goal = train[train.is_goal==1].type_of_shot.value_counts().head(6).sum()\n",
    "print(goal)\n",
    "pgoal = (train[train.is_goal==1].type_of_shot.value_counts().head(6)/goal).tolist()\n",
    "print(pgoal)"
   ]
  },
  {
   "cell_type": "code",
   "execution_count": 138,
   "id": "d0dc6a8e",
   "metadata": {},
   "outputs": [
    {
     "data": {
      "text/plain": [
       "6723"
      ]
     },
     "execution_count": 138,
     "metadata": {},
     "output_type": "execute_result"
    }
   ],
   "source": [
    "# if is_goal is 1, if type of shot is a string value, fill with the same or else fill with randomly choosing value from l_goal\n",
    "g = pd.Series(train[train.is_goal == 1].type_of_shot.apply(lambda x: x if type(x)==str else np.random.choice(lgoal,1,p=pgoal)[0]))\n",
    "# # if is_goal is 1, if type of shot is null then type of shot becomes equal to the value of g based on the index\n",
    "train.loc[(train.is_goal == 1)&(train.type_of_shot.isnull()), 'type_of_shot'] = g\n",
    "train['type_of_shot'].isna().sum() # number of missing values got reduced from more than 15k to 6723"
   ]
  },
  {
   "cell_type": "code",
   "execution_count": 139,
   "id": "9ec7fe28",
   "metadata": {},
   "outputs": [
    {
     "data": {
      "text/plain": [
       "0"
      ]
     },
     "execution_count": 139,
     "metadata": {},
     "output_type": "execute_result"
    }
   ],
   "source": [
    "l_no_goal   = train[train.is_goal == 0].type_of_shot.value_counts().head(5).keys()     # Top five shots when it was not a goal\n",
    "p_no_sum  = train[train.is_goal == 0].type_of_shot.value_counts().head(5).sum()\n",
    "p_no_goal   = (train[train.is_goal == 0].type_of_shot.value_counts().head(5) / p_no_sum ).tolist() # There respective probablities \n",
    "ng = pd.Series(train[train.is_goal == 0].type_of_shot.apply(lambda x: x if type(x)==str else np.random.choice(l_no_goal,1,p=p_no_goal)[0]))\n",
    "train.loc[(train.is_goal == 0)&(train.type_of_shot.isnull()), 'type_of_shot'] = ng \n",
    "train['type_of_shot'].isna().sum() # number of missing values got reduced to zero"
   ]
  },
  {
   "cell_type": "code",
   "execution_count": 140,
   "id": "73d2786e",
   "metadata": {},
   "outputs": [
    {
     "data": {
      "text/plain": [
       "match_event_id              0\n",
       "location_x                  0\n",
       "location_y                  0\n",
       "remaining_min               0\n",
       "power_of_shot               0\n",
       "knockout_match              0\n",
       "game_season                 0\n",
       "remaining_sec               0\n",
       "distance_of_shot            0\n",
       "is_goal                     0\n",
       "area_of_shot                0\n",
       "shot_basics                 0\n",
       "range_of_shot               0\n",
       "team_name                   0\n",
       "date_of_game             1237\n",
       "home/away                   0\n",
       "shot_id_number              0\n",
       "lat/lng                     0\n",
       "type_of_shot                0\n",
       "type_of_combined_shot       0\n",
       "match_id                    0\n",
       "team_id                     0\n",
       "dtype: int64"
      ]
     },
     "execution_count": 140,
     "metadata": {},
     "output_type": "execute_result"
    }
   ],
   "source": [
    "train.isnull().sum()"
   ]
  },
  {
   "cell_type": "code",
   "execution_count": 141,
   "id": "df011aa3",
   "metadata": {},
   "outputs": [
    {
     "data": {
      "text/plain": [
       "1237"
      ]
     },
     "execution_count": 141,
     "metadata": {},
     "output_type": "execute_result"
    }
   ],
   "source": [
    "train['date_of_game'].isnull().sum()"
   ]
  },
  {
   "cell_type": "code",
   "execution_count": 142,
   "id": "001150a4",
   "metadata": {},
   "outputs": [
    {
     "data": {
      "text/plain": [
       "match_event_id              0\n",
       "location_x                  0\n",
       "location_y                  0\n",
       "remaining_min               0\n",
       "power_of_shot               0\n",
       "knockout_match              0\n",
       "game_season                 0\n",
       "remaining_sec               0\n",
       "distance_of_shot            0\n",
       "is_goal                  6268\n",
       "area_of_shot                0\n",
       "shot_basics                 0\n",
       "range_of_shot               0\n",
       "team_name                   0\n",
       "date_of_game              313\n",
       "home/away                   0\n",
       "shot_id_number              0\n",
       "lat/lng                     0\n",
       "type_of_shot             3144\n",
       "type_of_combined_shot       0\n",
       "match_id                    0\n",
       "team_id                     0\n",
       "dtype: int64"
      ]
     },
     "execution_count": 142,
     "metadata": {},
     "output_type": "execute_result"
    }
   ],
   "source": [
    "test.isnull().sum()"
   ]
  },
  {
   "cell_type": "code",
   "execution_count": 143,
   "id": "532f8567",
   "metadata": {},
   "outputs": [],
   "source": [
    "#Handeling the remaing values in test dataset with a smilira approach\n",
    "test.loc[test['type_of_shot'].isnull(), 'type_of_shot'] = pd.Series(test.loc[test['type_of_shot'].isnull(), 'type_of_shot'].apply(lambda x: x if type(x)==str else np.random.choice(['shot - 39', 'shot - 36', 'shot - 4'],1,p=[0.37377133988618727, 0.33419555095706155, 0.2920331091567512])[0])) \n"
   ]
  },
  {
   "cell_type": "code",
   "execution_count": 144,
   "id": "d6a88b87",
   "metadata": {},
   "outputs": [
    {
     "data": {
      "text/plain": [
       "match_event_id              0\n",
       "location_x                  0\n",
       "location_y                  0\n",
       "remaining_min               0\n",
       "power_of_shot               0\n",
       "knockout_match              0\n",
       "game_season                 0\n",
       "remaining_sec               0\n",
       "distance_of_shot            0\n",
       "is_goal                  6268\n",
       "area_of_shot                0\n",
       "shot_basics                 0\n",
       "range_of_shot               0\n",
       "team_name                   0\n",
       "date_of_game              313\n",
       "home/away                   0\n",
       "shot_id_number              0\n",
       "lat/lng                     0\n",
       "type_of_shot                0\n",
       "type_of_combined_shot       0\n",
       "match_id                    0\n",
       "team_id                     0\n",
       "dtype: int64"
      ]
     },
     "execution_count": 144,
     "metadata": {},
     "output_type": "execute_result"
    }
   ],
   "source": [
    "test.isnull().sum()"
   ]
  },
  {
   "cell_type": "code",
   "execution_count": 145,
   "id": "fd623611",
   "metadata": {},
   "outputs": [
    {
     "name": "stdout",
     "output_type": "stream",
     "text": [
      "Wall time: 3.12 s\n"
     ]
    }
   ],
   "source": [
    "%%time\n",
    "# Labeling the catagories with integers\n",
    "for col in train.columns:\n",
    "    if train[col].dtypes == object: # if the column has categorical values\n",
    "        l_unique = train[col].unique() # find the unique values\n",
    "        v_unique = np.arange(len(l_unique)) # create a list of number from zero to the length of the I_unique values\n",
    "        train[col].replace(to_replace=l_unique, value=v_unique, inplace=True) # replace the categorical values with numerical values\n",
    "        train[col] = train[col].astype('int') # change the type from int64 to int32\n",
    "        \n",
    "        # same has been done for test data as well\n",
    "        test[col].replace(to_replace=l_unique, value=v_unique, inplace=True)\n",
    "        test[col] = test[col].astype('int')"
   ]
  },
  {
   "cell_type": "code",
   "execution_count": 146,
   "id": "abddbc2e",
   "metadata": {},
   "outputs": [],
   "source": [
    "train.drop(['date_of_game'],axis=1,inplace=True)"
   ]
  },
  {
   "cell_type": "code",
   "execution_count": 147,
   "id": "a56ecdcd",
   "metadata": {},
   "outputs": [],
   "source": [
    "test.drop(['date_of_game'],axis=1,inplace=True)"
   ]
  },
  {
   "cell_type": "code",
   "execution_count": 148,
   "id": "e8131576",
   "metadata": {},
   "outputs": [
    {
     "data": {
      "text/plain": [
       "match_event_id           0\n",
       "location_x               0\n",
       "location_y               0\n",
       "remaining_min            0\n",
       "power_of_shot            0\n",
       "knockout_match           0\n",
       "game_season              0\n",
       "remaining_sec            0\n",
       "distance_of_shot         0\n",
       "is_goal                  0\n",
       "area_of_shot             0\n",
       "shot_basics              0\n",
       "range_of_shot            0\n",
       "team_name                0\n",
       "home/away                0\n",
       "shot_id_number           0\n",
       "lat/lng                  0\n",
       "type_of_shot             0\n",
       "type_of_combined_shot    0\n",
       "match_id                 0\n",
       "team_id                  0\n",
       "dtype: int64"
      ]
     },
     "execution_count": 148,
     "metadata": {},
     "output_type": "execute_result"
    }
   ],
   "source": [
    "train.isnull().sum()"
   ]
  },
  {
   "cell_type": "code",
   "execution_count": 149,
   "id": "0c84c786",
   "metadata": {},
   "outputs": [
    {
     "data": {
      "text/plain": [
       "match_event_id              0\n",
       "location_x                  0\n",
       "location_y                  0\n",
       "remaining_min               0\n",
       "power_of_shot               0\n",
       "knockout_match              0\n",
       "game_season                 0\n",
       "remaining_sec               0\n",
       "distance_of_shot            0\n",
       "is_goal                  6268\n",
       "area_of_shot                0\n",
       "shot_basics                 0\n",
       "range_of_shot               0\n",
       "team_name                   0\n",
       "home/away                   0\n",
       "shot_id_number              0\n",
       "lat/lng                     0\n",
       "type_of_shot                0\n",
       "type_of_combined_shot       0\n",
       "match_id                    0\n",
       "team_id                     0\n",
       "dtype: int64"
      ]
     },
     "execution_count": 149,
     "metadata": {},
     "output_type": "execute_result"
    }
   ],
   "source": [
    "test.isnull().sum()"
   ]
  },
  {
   "cell_type": "code",
   "execution_count": null,
   "id": "a5ba785e",
   "metadata": {},
   "outputs": [],
   "source": []
  },
  {
   "cell_type": "code",
   "execution_count": null,
   "id": "b1f14914",
   "metadata": {},
   "outputs": [],
   "source": []
  },
  {
   "cell_type": "code",
   "execution_count": null,
   "id": "a22d724b",
   "metadata": {},
   "outputs": [],
   "source": []
  },
  {
   "cell_type": "code",
   "execution_count": null,
   "id": "bb540d50",
   "metadata": {},
   "outputs": [],
   "source": []
  },
  {
   "cell_type": "code",
   "execution_count": null,
   "id": "5b7b9fda",
   "metadata": {},
   "outputs": [],
   "source": []
  }
 ],
 "metadata": {
  "kernelspec": {
   "display_name": "Python 3",
   "language": "python",
   "name": "python3"
  },
  "language_info": {
   "codemirror_mode": {
    "name": "ipython",
    "version": 3
   },
   "file_extension": ".py",
   "mimetype": "text/x-python",
   "name": "python",
   "nbconvert_exporter": "python",
   "pygments_lexer": "ipython3",
   "version": "3.8.8"
  }
 },
 "nbformat": 4,
 "nbformat_minor": 5
}
